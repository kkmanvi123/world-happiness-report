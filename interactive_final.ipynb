{
 "cells": [
  {
   "cell_type": "code",
   "execution_count": 6,
   "metadata": {},
   "outputs": [
    {
     "data": {
      "text/html": [
       "        <script type=\"text/javascript\">\n",
       "        window.PlotlyConfig = {MathJaxConfig: 'local'};\n",
       "        if (window.MathJax && window.MathJax.Hub && window.MathJax.Hub.Config) {window.MathJax.Hub.Config({SVG: {font: \"STIX-Web\"}});}\n",
       "        if (typeof require !== 'undefined') {\n",
       "        require.undef(\"plotly\");\n",
       "        requirejs.config({\n",
       "            paths: {\n",
       "                'plotly': ['https://cdn.plot.ly/plotly-2.30.0.min']\n",
       "            }\n",
       "        });\n",
       "        require(['plotly'], function(Plotly) {\n",
       "            window._Plotly = Plotly;\n",
       "        });\n",
       "        }\n",
       "        </script>\n",
       "        "
      ]
     },
     "metadata": {},
     "output_type": "display_data"
    }
   ],
   "source": [
    "import numpy as np \n",
    "import plotly.graph_objects as go\n",
    "from plotly.offline import download_plotlyjs, init_notebook_mode,  iplot\n",
    "init_notebook_mode(connected=True)\n",
    "import json\n",
    "import numpy as np\n",
    "import pandas as pd\n",
    "import plotly.graph_objects as go\n",
    "import urllib.request\n",
    "\n",
    "whr_df = pd.read_csv('world-happiness-report-2021.csv')\n",
    "countries_geojson = 'world.geo.json/countries.geo.json'\n",
    "\n",
    "\n"
   ]
  },
  {
   "cell_type": "code",
   "execution_count": 7,
   "metadata": {},
   "outputs": [],
   "source": [
    "import plotly.graph_objects as go\n",
    "import numpy as np\n",
    "\n",
    "# Assuming whr_df contains your data and countries_geojson is the GeoJSON data for countries\n",
    "\n",
    "# Create custom data\n",
    "mycustomdata = np.stack((whr_df['Country name'], whr_df['Ladder score'], whr_df['Perceptions of corruption'], whr_df['Logged GDP per capita'], whr_df['Social support'], whr_df['Healthy life expectancy'], whr_df['Freedom to make life choices'], whr_df['Generosity']), axis=-1)\n",
    "\n",
    "title = 'Explore Ladder Score by Explanaition Type'\n",
    "\n",
    "fig = go.Figure(go.Choroplethmapbox(geojson=countries_geojson, \n",
    "                                    locations=whr_df['Country name'], \n",
    "                                    z=whr_df['Ladder score'],\n",
    "                                    featureidkey='properties.name',  # Adjusted the featureidkey\n",
    "                                    coloraxis=\"coloraxis\",\n",
    "                                    customdata=mycustomdata,\n",
    "                                    hovertemplate= '<b>Country:</b> %{customdata[0]}<br><b>Ladder score:</b> %{customdata[1]:.2f}<br><b>Perceptions of corruption:</b> %{customdata[2]:.2f}<br><b>PLogged GDP per capita:</b> %{customdata[2]:.2f}<br><b>Social support:</b> %{customdata[2]:.2f}<br><b>Healthy life expectancy:</b> %{customdata[2]:.2f}<br><b>Freedom to make life choices:</b> %{customdata[2]:.2f}<br><b>Generosity:</b> %{customdata[2]:.2f}<extra></extra>',\n",
    "                                    marker_opacity=0.75, marker_line_width=0.5))\n",
    "fig.update_layout(coloraxis_colorscale='Viridis',\n",
    "                  mapbox=dict(style='carto-positron',\n",
    "                              zoom=2, \n",
    "                              center = {\"lat\": 46.8181877 , \"lon\":8.2275124 },\n",
    "                              )) \n",
    "fig.update_layout(title_text=title,\n",
    "                  title_x=0.5,\n",
    "                  margin={\"r\":10,\"t\":60,\"l\":0,\"b\":0})\n",
    "fig.update_layout(title_text=title,\n",
    "                  title_x=0.5,\n",
    "                  margin={\"r\":10,\"t\":60,\"l\":0,\"b\":0})\n",
    "fig.update_layout(title_text=title,\n",
    "                  title_x=0.5,\n",
    "                  margin={\"r\":10,\"t\":60,\"l\":0,\"b\":0})\n",
    "fig.update_layout(title_text=title,\n",
    "                  title_x=0.5,\n",
    "                  margin={\"r\":10,\"t\":60,\"l\":0,\"b\":0})\n",
    "fig.update_layout(title_text=title,\n",
    "                  title_x=0.5,\n",
    "                  margin={\"r\":10,\"t\":60,\"l\":0,\"b\":0})\n",
    "fig.update_layout(title_text=title,\n",
    "                  title_x=0.5,\n",
    "                  margin={\"r\":10,\"t\":60,\"l\":0,\"b\":0})\n",
    "\n",
    "matter_r= [[0.0, '#2f0f3d'], #cmocean colorscale \n",
    "           [0.1, '#4f1552'],\n",
    "           [0.2, '#72195f'],\n",
    "           [0.3, '#931f63'],\n",
    "           [0.4, '#b32e5e'],\n",
    "           [0.5, '#cf4456'],\n",
    "           [0.6, '#e26152'],\n",
    "           [0.7, '#ee845d'],\n",
    "           [0.8, '#f5a672'],\n",
    "           [0.9, '#faca8f'],\n",
    "           [1.0, '#fdedb0']]\n",
    "\n",
    "matter_r_remap = [\n",
    "    [0.0, '#ffffe0'],\n",
    "    [0.1, '#ffe6b2'],\n",
    "    [0.2, '#ffcb91'],\n",
    "    [0.3, '#ffaf79'],\n",
    "    [0.4, '#fe8f6a'],\n",
    "    [0.5, '#f47361'],\n",
    "    [0.6, '#e65758'],\n",
    "    [0.7, '#d53d4c'],\n",
    "    [0.8, '#c0223b'],\n",
    "    [0.9, '#a70b24'],\n",
    "    [1.0, '#8b0000']\n",
    "]\n",
    "\n",
    "blue_to_yellow = [\n",
    "    [0.0, '#3498db'],  # Blue\n",
    "    [0.1, '#5dade2'],\n",
    "    [0.2, '#85c1e9'],\n",
    "    [0.3, '#a9cce3'],\n",
    "    [0.4, '#d4e6f1'],\n",
    "    [0.5, '#f9e79f'],  # Light yellow\n",
    "    [0.6, '#f7dc6f'],  # Light yellow transitioning to gold\n",
    "    [0.7, '#f4d03f'],  # Light yellow transitioning to gold\n",
    "    [0.8, '#f1c40f'],  # Gold\n",
    "    [0.9, '#e67e22'],  # Orange\n",
    "    [1.0, '#d35400']   # Dark orange\n",
    "]\n",
    "\n",
    "\n",
    "button1 = dict(method= 'update',\n",
    "               label='Ladder score',\n",
    "               args=[\n",
    "                    {\"z\": [whr_df['Ladder score']],\n",
    "                     \"hovertemplate\": \"Country name: %{customdata[0]}<br>\"+\\\n",
    "                                      \"Ladder score: %{customdata[1]}<extra></extra>\"\n",
    "                    }, #dict for fig.data[0] updates\n",
    "                    {\"coloraxis.colorscale\":\"Viridis\" } #dict for  layout attribute update \n",
    "                 ])\n",
    "\n",
    "button2 = dict(method= 'update',\n",
    "               label='Corruption',\n",
    "               args=[\n",
    "                   {\"z\": [whr_df['Perceptions of corruption']],\n",
    "                    \"hovertemplate\": \"Country name: %{customdata[0]}<br>\"+\\\n",
    "                                     \"Perceptions of corruption: %{customdata[2]}<extra></extra>\"\n",
    "                   },\n",
    "                   {\"coloraxis.colorscale\": matter_r_remap} #update layout attribute    \n",
    "           ])\n",
    "\n",
    "button3 = dict(method= 'update',\n",
    "               label='GDP per Capita',\n",
    "               args=[\n",
    "                   {\"z\": [whr_df['Logged GDP per capita']],\n",
    "                    \"hovertemplate\": \"Country name: %{customdata[0]}<br>\"+\\\n",
    "                                     \"Logged GDP per capita': %{customdata[3]}<extra></extra>\"\n",
    "                   },\n",
    "                   {\"coloraxis.colorscale\": matter_r} #update layout attribute    \n",
    "           ])\n",
    "\n",
    "button4 = dict(method= 'update',\n",
    "               label='Social Support',\n",
    "               args=[\n",
    "                   {\"z\": [whr_df['Social support']],\n",
    "                    \"hovertemplate\": \"Country name: %{customdata[0]}<br>\"+\\\n",
    "                                     \"Social support: %{customdata[4]}<extra></extra>\"\n",
    "                   },\n",
    "                   {\"coloraxis.colorscale\": blue_to_yellow} #update layout attribute    \n",
    "           ])\n",
    "\n",
    "button5 = dict(method= 'update',\n",
    "               label='Healthy life expectancy',\n",
    "               args=[\n",
    "                   {\"z\": [whr_df['Perceptions of corruption']],\n",
    "                    \"hovertemplate\": \"Country name: %{customdata[0]}<br>\"+\\\n",
    "                                     \"Healthy life expectancy: %{customdata[5]}<extra></extra>\"\n",
    "                   },\n",
    "                   {\"coloraxis.colorscale\": matter_r} #update layout attribute    \n",
    "           ])\n",
    "\n",
    "button6 = dict(method= 'update',\n",
    "               label='Freedom to make life choices',\n",
    "               args=[\n",
    "                   {\"z\": [whr_df['Logged GDP per capita']],\n",
    "                    \"hovertemplate\": \"Country name: %{customdata[0]}<br>\"+\\\n",
    "                                     \"Freedom to make life choices: %{customdata[6]}<extra></extra>\"\n",
    "                   },\n",
    "                   {\"coloraxis.colorscale\": matter_r} #update layout attribute    \n",
    "           ])\n",
    "\n",
    "button7 = dict(method= 'update',\n",
    "               label='Generosity',\n",
    "               args=[\n",
    "                   {\"z\": [whr_df['Generosity']],\n",
    "                    \"hovertemplate\": \"Country name: %{customdata[0]}<br>\"+\\\n",
    "                                     \"Generosity: %{customdata[7]}<extra></extra>\"\n",
    "                   },\n",
    "                   {\"coloraxis.colorscale\": matter_r} #update layout attribute    \n",
    "           ])"
   ]
  },
  {
   "cell_type": "code",
   "execution_count": 8,
   "metadata": {},
   "outputs": [
    {
     "data": {
      "application/vnd.plotly.v1+json": {
       "config": {
        "plotlyServerURL": "https://plot.ly"
       },
       "data": [
        {
         "coloraxis": "coloraxis",
         "customdata": [
          [
           "Finland",
           7.842,
           0.186,
           10.775,
           0.954,
           72,
           0.949,
           -0.098
          ],
          [
           "Denmark",
           7.62,
           0.179,
           10.933,
           0.954,
           72.7,
           0.946,
           0.03
          ],
          [
           "Switzerland",
           7.571,
           0.292,
           11.117,
           0.942,
           74.4,
           0.919,
           0.025
          ],
          [
           "Iceland",
           7.554,
           0.673,
           10.878,
           0.983,
           73,
           0.955,
           0.16
          ],
          [
           "Netherlands",
           7.464,
           0.338,
           10.932,
           0.942,
           72.4,
           0.913,
           0.175
          ],
          [
           "Norway",
           7.392,
           0.27,
           11.053,
           0.954,
           73.3,
           0.96,
           0.093
          ],
          [
           "Sweden",
           7.363,
           0.237,
           10.867,
           0.934,
           72.7,
           0.945,
           0.086
          ],
          [
           "Luxembourg",
           7.324,
           0.386,
           11.647,
           0.908,
           72.6,
           0.907,
           -0.034
          ],
          [
           "New Zealand",
           7.277,
           0.242,
           10.643,
           0.948,
           73.4,
           0.929,
           0.134
          ],
          [
           "Austria",
           7.268,
           0.481,
           10.906,
           0.934,
           73.3,
           0.908,
           0.042
          ],
          [
           "Australia",
           7.183,
           0.442,
           10.796,
           0.94,
           73.9,
           0.914,
           0.159
          ],
          [
           "Israel",
           7.157,
           0.753,
           10.575,
           0.939,
           73.503,
           0.8,
           0.031
          ],
          [
           "Germany",
           7.155,
           0.46,
           10.873,
           0.903,
           72.5,
           0.875,
           0.011
          ],
          [
           "Canada",
           7.103,
           0.415,
           10.776,
           0.926,
           73.8,
           0.915,
           0.089
          ],
          [
           "Ireland",
           7.085,
           0.363,
           11.342,
           0.947,
           72.4,
           0.879,
           0.077
          ],
          [
           "Costa Rica",
           7.069,
           0.809,
           9.88,
           0.891,
           71.4,
           0.934,
           -0.126
          ],
          [
           "United Kingdom",
           7.064,
           0.459,
           10.707,
           0.934,
           72.5,
           0.859,
           0.233
          ],
          [
           "Czech Republic",
           6.965,
           0.868,
           10.556,
           0.947,
           70.807,
           0.858,
           -0.208
          ],
          [
           "United States",
           6.951,
           0.698,
           11.023,
           0.92,
           68.2,
           0.837,
           0.098
          ],
          [
           "Belgium",
           6.834,
           0.646,
           10.823,
           0.906,
           72.199,
           0.783,
           -0.153
          ],
          [
           "France",
           6.69,
           0.571,
           10.704,
           0.942,
           74,
           0.822,
           -0.147
          ],
          [
           "Bahrain",
           6.647,
           0.722,
           10.669,
           0.862,
           69.495,
           0.925,
           0.089
          ],
          [
           "Malta",
           6.602,
           0.653,
           10.674,
           0.931,
           72.2,
           0.927,
           0.133
          ],
          [
           "Taiwan Province of China",
           6.584,
           0.721,
           10.871,
           0.898,
           69.6,
           0.784,
           -0.07
          ],
          [
           "United Arab Emirates",
           6.561,
           0.589,
           11.085,
           0.844,
           67.333,
           0.932,
           0.074
          ],
          [
           "Saudi Arabia",
           6.494,
           0.684,
           10.743,
           0.891,
           66.603,
           0.877,
           -0.149
          ],
          [
           "Spain",
           6.491,
           0.745,
           10.571,
           0.932,
           74.7,
           0.761,
           -0.081
          ],
          [
           "Italy",
           6.483,
           0.866,
           10.623,
           0.88,
           73.8,
           0.693,
           -0.084
          ],
          [
           "Slovenia",
           6.461,
           0.806,
           10.529,
           0.948,
           71.4,
           0.949,
           -0.101
          ],
          [
           "Guatemala",
           6.435,
           0.775,
           9.053,
           0.813,
           64.958,
           0.906,
           -0.038
          ],
          [
           "Uruguay",
           6.431,
           0.59,
           9.966,
           0.925,
           69.1,
           0.896,
           -0.092
          ],
          [
           "Singapore",
           6.377,
           0.082,
           11.488,
           0.915,
           76.953,
           0.927,
           -0.018
          ],
          [
           "Kosovo",
           6.372,
           0.917,
           9.318,
           0.821,
           63.813,
           0.869,
           0.257
          ],
          [
           "Slovakia",
           6.331,
           0.911,
           10.369,
           0.936,
           69.201,
           0.766,
           -0.124
          ],
          [
           "Brazil",
           6.33,
           0.756,
           9.577,
           0.882,
           66.601,
           0.804,
           -0.071
          ],
          [
           "Mexico",
           6.317,
           0.799,
           9.859,
           0.831,
           68.597,
           0.862,
           -0.147
          ],
          [
           "Jamaica",
           6.309,
           0.884,
           9.186,
           0.877,
           67.5,
           0.89,
           -0.137
          ],
          [
           "Lithuania",
           6.255,
           0.826,
           10.499,
           0.935,
           67.906,
           0.773,
           -0.203
          ],
          [
           "Cyprus",
           6.223,
           0.844,
           10.576,
           0.802,
           73.898,
           0.763,
           -0.015
          ],
          [
           "Estonia",
           6.189,
           0.527,
           10.481,
           0.941,
           68.8,
           0.909,
           -0.106
          ],
          [
           "Panama",
           6.18,
           0.856,
           10.35,
           0.896,
           69.652,
           0.872,
           -0.166
          ],
          [
           "Uzbekistan",
           6.179,
           0.515,
           8.836,
           0.918,
           65.255,
           0.97,
           0.311
          ],
          [
           "Chile",
           6.172,
           0.83,
           10.071,
           0.882,
           70,
           0.742,
           -0.044
          ],
          [
           "Poland",
           6.166,
           0.735,
           10.382,
           0.898,
           69.702,
           0.841,
           -0.165
          ],
          [
           "Kazakhstan",
           6.152,
           0.733,
           10.155,
           0.952,
           65.2,
           0.853,
           -0.069
          ],
          [
           "Romania",
           6.14,
           0.938,
           10.284,
           0.832,
           67.355,
           0.845,
           -0.219
          ],
          [
           "Kuwait",
           6.106,
           0.736,
           10.817,
           0.843,
           66.9,
           0.867,
           -0.104
          ],
          [
           "Serbia",
           6.078,
           0.835,
           9.787,
           0.873,
           68.6,
           0.778,
           0.002
          ],
          [
           "El Salvador",
           6.061,
           0.688,
           9.054,
           0.762,
           66.402,
           0.888,
           -0.11
          ],
          [
           "Mauritius",
           6.049,
           0.789,
           10.008,
           0.905,
           66.701,
           0.867,
           -0.054
          ],
          [
           "Latvia",
           6.032,
           0.8,
           10.315,
           0.927,
           67.1,
           0.715,
           -0.162
          ],
          [
           "Colombia",
           6.012,
           0.841,
           9.557,
           0.847,
           68.001,
           0.837,
           -0.135
          ],
          [
           "Hungary",
           5.992,
           0.876,
           10.358,
           0.943,
           68,
           0.755,
           -0.186
          ],
          [
           "Thailand",
           5.985,
           0.895,
           9.805,
           0.888,
           67.401,
           0.884,
           0.287
          ],
          [
           "Nicaragua",
           5.972,
           0.664,
           8.62,
           0.864,
           67.657,
           0.836,
           0.02
          ],
          [
           "Japan",
           5.94,
           0.638,
           10.611,
           0.884,
           75.1,
           0.796,
           -0.258
          ],
          [
           "Argentina",
           5.929,
           0.834,
           9.962,
           0.898,
           69,
           0.828,
           -0.182
          ],
          [
           "Portugal",
           5.929,
           0.887,
           10.421,
           0.879,
           72.6,
           0.892,
           -0.244
          ],
          [
           "Honduras",
           5.919,
           0.809,
           8.648,
           0.812,
           67.3,
           0.857,
           0.081
          ],
          [
           "Croatia",
           5.882,
           0.939,
           10.217,
           0.924,
           70.799,
           0.754,
           -0.118
          ],
          [
           "Philippines",
           5.88,
           0.742,
           9.076,
           0.83,
           62,
           0.917,
           -0.097
          ],
          [
           "South Korea",
           5.845,
           0.727,
           10.651,
           0.799,
           73.9,
           0.672,
           -0.083
          ],
          [
           "Peru",
           5.84,
           0.891,
           9.458,
           0.832,
           68.25,
           0.822,
           -0.154
          ],
          [
           "Bosnia and Herzegovina",
           5.813,
           0.931,
           9.59,
           0.87,
           68.098,
           0.706,
           0.113
          ],
          [
           "Moldova",
           5.766,
           0.918,
           9.454,
           0.857,
           65.699,
           0.822,
           -0.079
          ],
          [
           "Ecuador",
           5.764,
           0.843,
           9.313,
           0.821,
           68.8,
           0.842,
           -0.124
          ],
          [
           "Kyrgyzstan",
           5.744,
           0.908,
           8.538,
           0.893,
           64.401,
           0.935,
           0.119
          ],
          [
           "Greece",
           5.723,
           0.823,
           10.279,
           0.823,
           72.6,
           0.582,
           -0.288
          ],
          [
           "Bolivia",
           5.716,
           0.839,
           9.046,
           0.81,
           63.901,
           0.875,
           -0.077
          ],
          [
           "Mongolia",
           5.677,
           0.856,
           9.4,
           0.935,
           62.5,
           0.708,
           0.116
          ],
          [
           "Paraguay",
           5.653,
           0.882,
           9.448,
           0.893,
           65.9,
           0.876,
           0.028
          ],
          [
           "Montenegro",
           5.581,
           0.812,
           9.94,
           0.858,
           68.699,
           0.708,
           -0.034
          ],
          [
           "Dominican Republic",
           5.545,
           0.714,
           9.802,
           0.853,
           66.102,
           0.86,
           -0.133
          ],
          [
           "North Cyprus",
           5.536,
           0.626,
           10.576,
           0.82,
           73.898,
           0.795,
           0.012
          ],
          [
           "Belarus",
           5.534,
           0.627,
           9.853,
           0.91,
           66.253,
           0.65,
           -0.18
          ],
          [
           "Russia",
           5.477,
           0.845,
           10.189,
           0.903,
           64.703,
           0.718,
           -0.111
          ],
          [
           "Hong Kong S.A.R. of China",
           5.477,
           0.403,
           11,
           0.836,
           76.82,
           0.717,
           0.067
          ],
          [
           "Tajikistan",
           5.466,
           0.553,
           8.091,
           0.86,
           64.281,
           0.832,
           -0.056
          ],
          [
           "Vietnam",
           5.411,
           0.796,
           8.973,
           0.85,
           68.034,
           0.94,
           -0.098
          ],
          [
           "Libya",
           5.41,
           0.667,
           9.622,
           0.827,
           62.3,
           0.771,
           -0.087
          ],
          [
           "Malaysia",
           5.384,
           0.839,
           10.238,
           0.817,
           67.102,
           0.895,
           0.125
          ],
          [
           "Indonesia",
           5.345,
           0.867,
           9.365,
           0.811,
           62.236,
           0.873,
           0.542
          ],
          [
           "Congo (Brazzaville)",
           5.342,
           0.745,
           8.117,
           0.636,
           58.221,
           0.695,
           -0.068
          ],
          [
           "China",
           5.339,
           0.755,
           9.673,
           0.811,
           69.593,
           0.904,
           -0.146
          ],
          [
           "Ivory Coast",
           5.306,
           0.794,
           8.551,
           0.644,
           50.114,
           0.741,
           -0.016
          ],
          [
           "Armenia",
           5.283,
           0.629,
           9.487,
           0.799,
           67.055,
           0.825,
           -0.168
          ],
          [
           "Nepal",
           5.269,
           0.727,
           8.12,
           0.774,
           64.233,
           0.782,
           0.152
          ],
          [
           "Bulgaria",
           5.266,
           0.932,
           10.016,
           0.931,
           67,
           0.788,
           -0.096
          ],
          [
           "Maldives",
           5.198,
           0.825,
           9.826,
           0.913,
           70.6,
           0.854,
           0.024
          ],
          [
           "Azerbaijan",
           5.171,
           0.506,
           9.569,
           0.836,
           65.656,
           0.814,
           -0.223
          ],
          [
           "Cameroon",
           5.142,
           0.848,
           8.189,
           0.71,
           53.515,
           0.731,
           0.026
          ],
          [
           "Senegal",
           5.132,
           0.801,
           8.118,
           0.71,
           59.802,
           0.695,
           -0.046
          ],
          [
           "Albania",
           5.117,
           0.901,
           9.52,
           0.697,
           68.999,
           0.785,
           -0.03
          ],
          [
           "North Macedonia",
           5.101,
           0.905,
           9.693,
           0.805,
           65.474,
           0.751,
           0.038
          ],
          [
           "Ghana",
           5.088,
           0.848,
           8.58,
           0.727,
           57.586,
           0.807,
           0.123
          ],
          [
           "Niger",
           5.074,
           0.693,
           7.098,
           0.641,
           53.78,
           0.806,
           0.018
          ],
          [
           "Turkmenistan",
           5.066,
           0.888,
           9.629,
           0.983,
           62.409,
           0.877,
           0.273
          ],
          [
           "Gambia",
           5.051,
           0.746,
           7.686,
           0.69,
           55.16,
           0.697,
           0.424
          ],
          [
           "Benin",
           5.045,
           0.661,
           8.087,
           0.489,
           54.713,
           0.757,
           -0.034
          ],
          [
           "Laos",
           5.03,
           0.658,
           8.947,
           0.728,
           58.968,
           0.91,
           0.123
          ],
          [
           "Bangladesh",
           5.025,
           0.682,
           8.454,
           0.693,
           64.8,
           0.877,
           -0.041
          ],
          [
           "Guinea",
           4.984,
           0.766,
           7.838,
           0.639,
           55.008,
           0.697,
           0.095
          ],
          [
           "South Africa",
           4.956,
           0.86,
           9.403,
           0.86,
           56.904,
           0.749,
           -0.067
          ],
          [
           "Turkey",
           4.948,
           0.776,
           10.24,
           0.822,
           67.199,
           0.576,
           -0.139
          ],
          [
           "Pakistan",
           4.934,
           0.787,
           8.458,
           0.651,
           58.709,
           0.726,
           0.098
          ],
          [
           "Morocco",
           4.918,
           0.801,
           8.903,
           0.56,
           66.208,
           0.774,
           -0.236
          ],
          [
           "Venezuela",
           4.892,
           0.827,
           9.073,
           0.861,
           66.7,
           0.615,
           -0.169
          ],
          [
           "Georgia",
           4.891,
           0.655,
           9.585,
           0.671,
           64.3,
           0.783,
           -0.238
          ],
          [
           "Algeria",
           4.887,
           0.752,
           9.342,
           0.802,
           66.005,
           0.48,
           -0.067
          ],
          [
           "Ukraine",
           4.875,
           0.924,
           9.436,
           0.888,
           64.902,
           0.724,
           -0.011
          ],
          [
           "Iraq",
           4.854,
           0.875,
           9.24,
           0.746,
           60.583,
           0.63,
           -0.053
          ],
          [
           "Gabon",
           4.852,
           0.84,
           9.603,
           0.776,
           59.962,
           0.731,
           -0.2
          ],
          [
           "Burkina Faso",
           4.834,
           0.748,
           7.678,
           0.672,
           54.151,
           0.695,
           -0.009
          ],
          [
           "Cambodia",
           4.83,
           0.843,
           8.36,
           0.765,
           62,
           0.959,
           0.034
          ],
          [
           "Mozambique",
           4.794,
           0.684,
           7.158,
           0.744,
           54.706,
           0.882,
           0.061
          ],
          [
           "Nigeria",
           4.759,
           0.878,
           8.533,
           0.74,
           50.102,
           0.737,
           0.037
          ],
          [
           "Mali",
           4.723,
           0.827,
           7.744,
           0.724,
           51.969,
           0.697,
           -0.036
          ],
          [
           "Iran",
           4.721,
           0.714,
           9.584,
           0.71,
           66.3,
           0.608,
           0.218
          ],
          [
           "Uganda",
           4.636,
           0.855,
           7.677,
           0.781,
           56.101,
           0.709,
           0.122
          ],
          [
           "Liberia",
           4.625,
           0.85,
           7.288,
           0.72,
           56.498,
           0.735,
           0.05
          ],
          [
           "Kenya",
           4.607,
           0.825,
           8.361,
           0.688,
           60.704,
           0.779,
           0.287
          ],
          [
           "Tunisia",
           4.596,
           0.87,
           9.266,
           0.691,
           67.201,
           0.656,
           -0.201
          ],
          [
           "Lebanon",
           4.584,
           0.898,
           9.626,
           0.848,
           67.355,
           0.525,
           -0.073
          ],
          [
           "Namibia",
           4.574,
           0.847,
           9.161,
           0.818,
           56.799,
           0.719,
           -0.149
          ],
          [
           "Palestinian Territories",
           4.517,
           0.821,
           8.485,
           0.826,
           62.25,
           0.653,
           -0.163
          ],
          [
           "Myanmar",
           4.426,
           0.66,
           8.541,
           0.779,
           59.302,
           0.876,
           0.509
          ],
          [
           "Jordan",
           4.395,
           0.705,
           9.182,
           0.767,
           67,
           0.755,
           -0.167
          ],
          [
           "Chad",
           4.355,
           0.807,
           7.364,
           0.619,
           48.478,
           0.579,
           0.041
          ],
          [
           "Sri Lanka",
           4.325,
           0.863,
           9.47,
           0.827,
           67.299,
           0.841,
           0.079
          ],
          [
           "Swaziland",
           4.308,
           0.708,
           9.065,
           0.77,
           50.833,
           0.647,
           -0.185
          ],
          [
           "Comoros",
           4.289,
           0.781,
           8.031,
           0.626,
           57.349,
           0.548,
           0.082
          ],
          [
           "Egypt",
           4.283,
           0.795,
           9.367,
           0.75,
           61.998,
           0.749,
           -0.182
          ],
          [
           "Ethiopia",
           4.275,
           0.761,
           7.694,
           0.764,
           59,
           0.752,
           0.082
          ],
          [
           "Mauritania",
           4.227,
           0.731,
           8.542,
           0.795,
           57.161,
           0.561,
           -0.106
          ],
          [
           "Madagascar",
           4.208,
           0.803,
           7.396,
           0.686,
           59.305,
           0.552,
           -0.005
          ],
          [
           "Togo",
           4.107,
           0.772,
           7.362,
           0.569,
           54.914,
           0.619,
           0.032
          ],
          [
           "Zambia",
           4.073,
           0.823,
           8.145,
           0.708,
           55.809,
           0.782,
           0.061
          ],
          [
           "Sierra Leone",
           3.849,
           0.866,
           7.434,
           0.63,
           51.651,
           0.717,
           0.084
          ],
          [
           "India",
           3.819,
           0.774,
           8.755,
           0.603,
           60.633,
           0.893,
           0.089
          ],
          [
           "Burundi",
           3.775,
           0.607,
           6.635,
           0.49,
           53.4,
           0.626,
           -0.024
          ],
          [
           "Yemen",
           3.658,
           0.8,
           7.578,
           0.832,
           57.122,
           0.602,
           -0.147
          ],
          [
           "Tanzania",
           3.623,
           0.577,
           7.876,
           0.702,
           57.999,
           0.833,
           0.183
          ],
          [
           "Haiti",
           3.615,
           0.721,
           7.477,
           0.54,
           55.7,
           0.593,
           0.422
          ],
          [
           "Malawi",
           3.6,
           0.729,
           6.958,
           0.537,
           57.948,
           0.78,
           0.038
          ],
          [
           "Lesotho",
           3.512,
           0.915,
           7.926,
           0.787,
           48.7,
           0.715,
           -0.131
          ],
          [
           "Botswana",
           3.467,
           0.801,
           9.782,
           0.784,
           59.269,
           0.824,
           -0.246
          ],
          [
           "Rwanda",
           3.415,
           0.167,
           7.676,
           0.552,
           61.4,
           0.897,
           0.061
          ],
          [
           "Zimbabwe",
           3.145,
           0.821,
           7.943,
           0.75,
           56.201,
           0.677,
           -0.047
          ],
          [
           "Afghanistan",
           2.523,
           0.924,
           7.695,
           0.463,
           52.493,
           0.382,
           -0.102
          ]
         ],
         "featureidkey": "properties.name",
         "geojson": "world.geo.json/countries.geo.json",
         "hovertemplate": "<b>Country:</b> %{customdata[0]}<br><b>Ladder score:</b> %{customdata[1]:.2f}<br><b>Perceptions of corruption:</b> %{customdata[2]:.2f}<br><b>PLogged GDP per capita:</b> %{customdata[2]:.2f}<br><b>Social support:</b> %{customdata[2]:.2f}<br><b>Healthy life expectancy:</b> %{customdata[2]:.2f}<br><b>Freedom to make life choices:</b> %{customdata[2]:.2f}<br><b>Generosity:</b> %{customdata[2]:.2f}<extra></extra>",
         "locations": [
          "Finland",
          "Denmark",
          "Switzerland",
          "Iceland",
          "Netherlands",
          "Norway",
          "Sweden",
          "Luxembourg",
          "New Zealand",
          "Austria",
          "Australia",
          "Israel",
          "Germany",
          "Canada",
          "Ireland",
          "Costa Rica",
          "United Kingdom",
          "Czech Republic",
          "United States",
          "Belgium",
          "France",
          "Bahrain",
          "Malta",
          "Taiwan Province of China",
          "United Arab Emirates",
          "Saudi Arabia",
          "Spain",
          "Italy",
          "Slovenia",
          "Guatemala",
          "Uruguay",
          "Singapore",
          "Kosovo",
          "Slovakia",
          "Brazil",
          "Mexico",
          "Jamaica",
          "Lithuania",
          "Cyprus",
          "Estonia",
          "Panama",
          "Uzbekistan",
          "Chile",
          "Poland",
          "Kazakhstan",
          "Romania",
          "Kuwait",
          "Serbia",
          "El Salvador",
          "Mauritius",
          "Latvia",
          "Colombia",
          "Hungary",
          "Thailand",
          "Nicaragua",
          "Japan",
          "Argentina",
          "Portugal",
          "Honduras",
          "Croatia",
          "Philippines",
          "South Korea",
          "Peru",
          "Bosnia and Herzegovina",
          "Moldova",
          "Ecuador",
          "Kyrgyzstan",
          "Greece",
          "Bolivia",
          "Mongolia",
          "Paraguay",
          "Montenegro",
          "Dominican Republic",
          "North Cyprus",
          "Belarus",
          "Russia",
          "Hong Kong S.A.R. of China",
          "Tajikistan",
          "Vietnam",
          "Libya",
          "Malaysia",
          "Indonesia",
          "Congo (Brazzaville)",
          "China",
          "Ivory Coast",
          "Armenia",
          "Nepal",
          "Bulgaria",
          "Maldives",
          "Azerbaijan",
          "Cameroon",
          "Senegal",
          "Albania",
          "North Macedonia",
          "Ghana",
          "Niger",
          "Turkmenistan",
          "Gambia",
          "Benin",
          "Laos",
          "Bangladesh",
          "Guinea",
          "South Africa",
          "Turkey",
          "Pakistan",
          "Morocco",
          "Venezuela",
          "Georgia",
          "Algeria",
          "Ukraine",
          "Iraq",
          "Gabon",
          "Burkina Faso",
          "Cambodia",
          "Mozambique",
          "Nigeria",
          "Mali",
          "Iran",
          "Uganda",
          "Liberia",
          "Kenya",
          "Tunisia",
          "Lebanon",
          "Namibia",
          "Palestinian Territories",
          "Myanmar",
          "Jordan",
          "Chad",
          "Sri Lanka",
          "Swaziland",
          "Comoros",
          "Egypt",
          "Ethiopia",
          "Mauritania",
          "Madagascar",
          "Togo",
          "Zambia",
          "Sierra Leone",
          "India",
          "Burundi",
          "Yemen",
          "Tanzania",
          "Haiti",
          "Malawi",
          "Lesotho",
          "Botswana",
          "Rwanda",
          "Zimbabwe",
          "Afghanistan"
         ],
         "marker": {
          "line": {
           "width": 0.5
          },
          "opacity": 0.75
         },
         "type": "choroplethmapbox",
         "z": [
          7.842,
          7.62,
          7.571,
          7.554,
          7.464,
          7.392,
          7.363,
          7.324,
          7.277,
          7.268,
          7.183,
          7.157,
          7.155,
          7.103,
          7.085,
          7.069,
          7.064,
          6.965,
          6.951,
          6.834,
          6.69,
          6.647,
          6.602,
          6.584,
          6.561,
          6.494,
          6.491,
          6.483,
          6.461,
          6.435,
          6.431,
          6.377,
          6.372,
          6.331,
          6.33,
          6.317,
          6.309,
          6.255,
          6.223,
          6.189,
          6.18,
          6.179,
          6.172,
          6.166,
          6.152,
          6.14,
          6.106,
          6.078,
          6.061,
          6.049,
          6.032,
          6.012,
          5.992,
          5.985,
          5.972,
          5.94,
          5.929,
          5.929,
          5.919,
          5.882,
          5.88,
          5.845,
          5.84,
          5.813,
          5.766,
          5.764,
          5.744,
          5.723,
          5.716,
          5.677,
          5.653,
          5.581,
          5.545,
          5.536,
          5.534,
          5.477,
          5.477,
          5.466,
          5.411,
          5.41,
          5.384,
          5.345,
          5.342,
          5.339,
          5.306,
          5.283,
          5.269,
          5.266,
          5.198,
          5.171,
          5.142,
          5.132,
          5.117,
          5.101,
          5.088,
          5.074,
          5.066,
          5.051,
          5.045,
          5.03,
          5.025,
          4.984,
          4.956,
          4.948,
          4.934,
          4.918,
          4.892,
          4.891,
          4.887,
          4.875,
          4.854,
          4.852,
          4.834,
          4.83,
          4.794,
          4.759,
          4.723,
          4.721,
          4.636,
          4.625,
          4.607,
          4.596,
          4.584,
          4.574,
          4.517,
          4.426,
          4.395,
          4.355,
          4.325,
          4.308,
          4.289,
          4.283,
          4.275,
          4.227,
          4.208,
          4.107,
          4.073,
          3.849,
          3.819,
          3.775,
          3.658,
          3.623,
          3.615,
          3.6,
          3.512,
          3.467,
          3.415,
          3.145,
          2.523
         ]
        }
       ],
       "layout": {
        "coloraxis": {
         "colorscale": [
          [
           0,
           "#440154"
          ],
          [
           0.1111111111111111,
           "#482878"
          ],
          [
           0.2222222222222222,
           "#3e4989"
          ],
          [
           0.3333333333333333,
           "#31688e"
          ],
          [
           0.4444444444444444,
           "#26828e"
          ],
          [
           0.5555555555555556,
           "#1f9e89"
          ],
          [
           0.6666666666666666,
           "#35b779"
          ],
          [
           0.7777777777777778,
           "#6ece58"
          ],
          [
           0.8888888888888888,
           "#b5de2b"
          ],
          [
           1,
           "#fde725"
          ]
         ]
        },
        "mapbox": {
         "center": {
          "lat": 46.8181877,
          "lon": 8.2275124
         },
         "style": "carto-positron",
         "zoom": 2
        },
        "margin": {
         "b": 0,
         "l": 0,
         "r": 10,
         "t": 60
        },
        "template": {
         "data": {
          "bar": [
           {
            "error_x": {
             "color": "#2a3f5f"
            },
            "error_y": {
             "color": "#2a3f5f"
            },
            "marker": {
             "line": {
              "color": "#E5ECF6",
              "width": 0.5
             },
             "pattern": {
              "fillmode": "overlay",
              "size": 10,
              "solidity": 0.2
             }
            },
            "type": "bar"
           }
          ],
          "barpolar": [
           {
            "marker": {
             "line": {
              "color": "#E5ECF6",
              "width": 0.5
             },
             "pattern": {
              "fillmode": "overlay",
              "size": 10,
              "solidity": 0.2
             }
            },
            "type": "barpolar"
           }
          ],
          "carpet": [
           {
            "aaxis": {
             "endlinecolor": "#2a3f5f",
             "gridcolor": "white",
             "linecolor": "white",
             "minorgridcolor": "white",
             "startlinecolor": "#2a3f5f"
            },
            "baxis": {
             "endlinecolor": "#2a3f5f",
             "gridcolor": "white",
             "linecolor": "white",
             "minorgridcolor": "white",
             "startlinecolor": "#2a3f5f"
            },
            "type": "carpet"
           }
          ],
          "choropleth": [
           {
            "colorbar": {
             "outlinewidth": 0,
             "ticks": ""
            },
            "type": "choropleth"
           }
          ],
          "contour": [
           {
            "colorbar": {
             "outlinewidth": 0,
             "ticks": ""
            },
            "colorscale": [
             [
              0,
              "#0d0887"
             ],
             [
              0.1111111111111111,
              "#46039f"
             ],
             [
              0.2222222222222222,
              "#7201a8"
             ],
             [
              0.3333333333333333,
              "#9c179e"
             ],
             [
              0.4444444444444444,
              "#bd3786"
             ],
             [
              0.5555555555555556,
              "#d8576b"
             ],
             [
              0.6666666666666666,
              "#ed7953"
             ],
             [
              0.7777777777777778,
              "#fb9f3a"
             ],
             [
              0.8888888888888888,
              "#fdca26"
             ],
             [
              1,
              "#f0f921"
             ]
            ],
            "type": "contour"
           }
          ],
          "contourcarpet": [
           {
            "colorbar": {
             "outlinewidth": 0,
             "ticks": ""
            },
            "type": "contourcarpet"
           }
          ],
          "heatmap": [
           {
            "colorbar": {
             "outlinewidth": 0,
             "ticks": ""
            },
            "colorscale": [
             [
              0,
              "#0d0887"
             ],
             [
              0.1111111111111111,
              "#46039f"
             ],
             [
              0.2222222222222222,
              "#7201a8"
             ],
             [
              0.3333333333333333,
              "#9c179e"
             ],
             [
              0.4444444444444444,
              "#bd3786"
             ],
             [
              0.5555555555555556,
              "#d8576b"
             ],
             [
              0.6666666666666666,
              "#ed7953"
             ],
             [
              0.7777777777777778,
              "#fb9f3a"
             ],
             [
              0.8888888888888888,
              "#fdca26"
             ],
             [
              1,
              "#f0f921"
             ]
            ],
            "type": "heatmap"
           }
          ],
          "heatmapgl": [
           {
            "colorbar": {
             "outlinewidth": 0,
             "ticks": ""
            },
            "colorscale": [
             [
              0,
              "#0d0887"
             ],
             [
              0.1111111111111111,
              "#46039f"
             ],
             [
              0.2222222222222222,
              "#7201a8"
             ],
             [
              0.3333333333333333,
              "#9c179e"
             ],
             [
              0.4444444444444444,
              "#bd3786"
             ],
             [
              0.5555555555555556,
              "#d8576b"
             ],
             [
              0.6666666666666666,
              "#ed7953"
             ],
             [
              0.7777777777777778,
              "#fb9f3a"
             ],
             [
              0.8888888888888888,
              "#fdca26"
             ],
             [
              1,
              "#f0f921"
             ]
            ],
            "type": "heatmapgl"
           }
          ],
          "histogram": [
           {
            "marker": {
             "pattern": {
              "fillmode": "overlay",
              "size": 10,
              "solidity": 0.2
             }
            },
            "type": "histogram"
           }
          ],
          "histogram2d": [
           {
            "colorbar": {
             "outlinewidth": 0,
             "ticks": ""
            },
            "colorscale": [
             [
              0,
              "#0d0887"
             ],
             [
              0.1111111111111111,
              "#46039f"
             ],
             [
              0.2222222222222222,
              "#7201a8"
             ],
             [
              0.3333333333333333,
              "#9c179e"
             ],
             [
              0.4444444444444444,
              "#bd3786"
             ],
             [
              0.5555555555555556,
              "#d8576b"
             ],
             [
              0.6666666666666666,
              "#ed7953"
             ],
             [
              0.7777777777777778,
              "#fb9f3a"
             ],
             [
              0.8888888888888888,
              "#fdca26"
             ],
             [
              1,
              "#f0f921"
             ]
            ],
            "type": "histogram2d"
           }
          ],
          "histogram2dcontour": [
           {
            "colorbar": {
             "outlinewidth": 0,
             "ticks": ""
            },
            "colorscale": [
             [
              0,
              "#0d0887"
             ],
             [
              0.1111111111111111,
              "#46039f"
             ],
             [
              0.2222222222222222,
              "#7201a8"
             ],
             [
              0.3333333333333333,
              "#9c179e"
             ],
             [
              0.4444444444444444,
              "#bd3786"
             ],
             [
              0.5555555555555556,
              "#d8576b"
             ],
             [
              0.6666666666666666,
              "#ed7953"
             ],
             [
              0.7777777777777778,
              "#fb9f3a"
             ],
             [
              0.8888888888888888,
              "#fdca26"
             ],
             [
              1,
              "#f0f921"
             ]
            ],
            "type": "histogram2dcontour"
           }
          ],
          "mesh3d": [
           {
            "colorbar": {
             "outlinewidth": 0,
             "ticks": ""
            },
            "type": "mesh3d"
           }
          ],
          "parcoords": [
           {
            "line": {
             "colorbar": {
              "outlinewidth": 0,
              "ticks": ""
             }
            },
            "type": "parcoords"
           }
          ],
          "pie": [
           {
            "automargin": true,
            "type": "pie"
           }
          ],
          "scatter": [
           {
            "fillpattern": {
             "fillmode": "overlay",
             "size": 10,
             "solidity": 0.2
            },
            "type": "scatter"
           }
          ],
          "scatter3d": [
           {
            "line": {
             "colorbar": {
              "outlinewidth": 0,
              "ticks": ""
             }
            },
            "marker": {
             "colorbar": {
              "outlinewidth": 0,
              "ticks": ""
             }
            },
            "type": "scatter3d"
           }
          ],
          "scattercarpet": [
           {
            "marker": {
             "colorbar": {
              "outlinewidth": 0,
              "ticks": ""
             }
            },
            "type": "scattercarpet"
           }
          ],
          "scattergeo": [
           {
            "marker": {
             "colorbar": {
              "outlinewidth": 0,
              "ticks": ""
             }
            },
            "type": "scattergeo"
           }
          ],
          "scattergl": [
           {
            "marker": {
             "colorbar": {
              "outlinewidth": 0,
              "ticks": ""
             }
            },
            "type": "scattergl"
           }
          ],
          "scattermapbox": [
           {
            "marker": {
             "colorbar": {
              "outlinewidth": 0,
              "ticks": ""
             }
            },
            "type": "scattermapbox"
           }
          ],
          "scatterpolar": [
           {
            "marker": {
             "colorbar": {
              "outlinewidth": 0,
              "ticks": ""
             }
            },
            "type": "scatterpolar"
           }
          ],
          "scatterpolargl": [
           {
            "marker": {
             "colorbar": {
              "outlinewidth": 0,
              "ticks": ""
             }
            },
            "type": "scatterpolargl"
           }
          ],
          "scatterternary": [
           {
            "marker": {
             "colorbar": {
              "outlinewidth": 0,
              "ticks": ""
             }
            },
            "type": "scatterternary"
           }
          ],
          "surface": [
           {
            "colorbar": {
             "outlinewidth": 0,
             "ticks": ""
            },
            "colorscale": [
             [
              0,
              "#0d0887"
             ],
             [
              0.1111111111111111,
              "#46039f"
             ],
             [
              0.2222222222222222,
              "#7201a8"
             ],
             [
              0.3333333333333333,
              "#9c179e"
             ],
             [
              0.4444444444444444,
              "#bd3786"
             ],
             [
              0.5555555555555556,
              "#d8576b"
             ],
             [
              0.6666666666666666,
              "#ed7953"
             ],
             [
              0.7777777777777778,
              "#fb9f3a"
             ],
             [
              0.8888888888888888,
              "#fdca26"
             ],
             [
              1,
              "#f0f921"
             ]
            ],
            "type": "surface"
           }
          ],
          "table": [
           {
            "cells": {
             "fill": {
              "color": "#EBF0F8"
             },
             "line": {
              "color": "white"
             }
            },
            "header": {
             "fill": {
              "color": "#C8D4E3"
             },
             "line": {
              "color": "white"
             }
            },
            "type": "table"
           }
          ]
         },
         "layout": {
          "annotationdefaults": {
           "arrowcolor": "#2a3f5f",
           "arrowhead": 0,
           "arrowwidth": 1
          },
          "autotypenumbers": "strict",
          "coloraxis": {
           "colorbar": {
            "outlinewidth": 0,
            "ticks": ""
           }
          },
          "colorscale": {
           "diverging": [
            [
             0,
             "#8e0152"
            ],
            [
             0.1,
             "#c51b7d"
            ],
            [
             0.2,
             "#de77ae"
            ],
            [
             0.3,
             "#f1b6da"
            ],
            [
             0.4,
             "#fde0ef"
            ],
            [
             0.5,
             "#f7f7f7"
            ],
            [
             0.6,
             "#e6f5d0"
            ],
            [
             0.7,
             "#b8e186"
            ],
            [
             0.8,
             "#7fbc41"
            ],
            [
             0.9,
             "#4d9221"
            ],
            [
             1,
             "#276419"
            ]
           ],
           "sequential": [
            [
             0,
             "#0d0887"
            ],
            [
             0.1111111111111111,
             "#46039f"
            ],
            [
             0.2222222222222222,
             "#7201a8"
            ],
            [
             0.3333333333333333,
             "#9c179e"
            ],
            [
             0.4444444444444444,
             "#bd3786"
            ],
            [
             0.5555555555555556,
             "#d8576b"
            ],
            [
             0.6666666666666666,
             "#ed7953"
            ],
            [
             0.7777777777777778,
             "#fb9f3a"
            ],
            [
             0.8888888888888888,
             "#fdca26"
            ],
            [
             1,
             "#f0f921"
            ]
           ],
           "sequentialminus": [
            [
             0,
             "#0d0887"
            ],
            [
             0.1111111111111111,
             "#46039f"
            ],
            [
             0.2222222222222222,
             "#7201a8"
            ],
            [
             0.3333333333333333,
             "#9c179e"
            ],
            [
             0.4444444444444444,
             "#bd3786"
            ],
            [
             0.5555555555555556,
             "#d8576b"
            ],
            [
             0.6666666666666666,
             "#ed7953"
            ],
            [
             0.7777777777777778,
             "#fb9f3a"
            ],
            [
             0.8888888888888888,
             "#fdca26"
            ],
            [
             1,
             "#f0f921"
            ]
           ]
          },
          "colorway": [
           "#636efa",
           "#EF553B",
           "#00cc96",
           "#ab63fa",
           "#FFA15A",
           "#19d3f3",
           "#FF6692",
           "#B6E880",
           "#FF97FF",
           "#FECB52"
          ],
          "font": {
           "color": "#2a3f5f"
          },
          "geo": {
           "bgcolor": "white",
           "lakecolor": "white",
           "landcolor": "#E5ECF6",
           "showlakes": true,
           "showland": true,
           "subunitcolor": "white"
          },
          "hoverlabel": {
           "align": "left"
          },
          "hovermode": "closest",
          "mapbox": {
           "style": "light"
          },
          "paper_bgcolor": "white",
          "plot_bgcolor": "#E5ECF6",
          "polar": {
           "angularaxis": {
            "gridcolor": "white",
            "linecolor": "white",
            "ticks": ""
           },
           "bgcolor": "#E5ECF6",
           "radialaxis": {
            "gridcolor": "white",
            "linecolor": "white",
            "ticks": ""
           }
          },
          "scene": {
           "xaxis": {
            "backgroundcolor": "#E5ECF6",
            "gridcolor": "white",
            "gridwidth": 2,
            "linecolor": "white",
            "showbackground": true,
            "ticks": "",
            "zerolinecolor": "white"
           },
           "yaxis": {
            "backgroundcolor": "#E5ECF6",
            "gridcolor": "white",
            "gridwidth": 2,
            "linecolor": "white",
            "showbackground": true,
            "ticks": "",
            "zerolinecolor": "white"
           },
           "zaxis": {
            "backgroundcolor": "#E5ECF6",
            "gridcolor": "white",
            "gridwidth": 2,
            "linecolor": "white",
            "showbackground": true,
            "ticks": "",
            "zerolinecolor": "white"
           }
          },
          "shapedefaults": {
           "line": {
            "color": "#2a3f5f"
           }
          },
          "ternary": {
           "aaxis": {
            "gridcolor": "white",
            "linecolor": "white",
            "ticks": ""
           },
           "baxis": {
            "gridcolor": "white",
            "linecolor": "white",
            "ticks": ""
           },
           "bgcolor": "#E5ECF6",
           "caxis": {
            "gridcolor": "white",
            "linecolor": "white",
            "ticks": ""
           }
          },
          "title": {
           "x": 0.05
          },
          "xaxis": {
           "automargin": true,
           "gridcolor": "white",
           "linecolor": "white",
           "ticks": "",
           "title": {
            "standoff": 15
           },
           "zerolinecolor": "white",
           "zerolinewidth": 2
          },
          "yaxis": {
           "automargin": true,
           "gridcolor": "white",
           "linecolor": "white",
           "ticks": "",
           "title": {
            "standoff": 15
           },
           "zerolinecolor": "white",
           "zerolinewidth": 2
          }
         }
        },
        "title": {
         "text": "Explore Ladder Score by Explanaition Type",
         "x": 0.5
        },
        "updatemenus": [
         {
          "active": 0,
          "buttons": [
           {
            "args": [
             {
              "hovertemplate": "Country name: %{customdata[0]}<br>Ladder score: %{customdata[1]}<extra></extra>",
              "z": [
               [
                7.842,
                7.62,
                7.571,
                7.554,
                7.464,
                7.392,
                7.363,
                7.324,
                7.277,
                7.268,
                7.183,
                7.157,
                7.155,
                7.103,
                7.085,
                7.069,
                7.064,
                6.965,
                6.951,
                6.834,
                6.69,
                6.647,
                6.602,
                6.584,
                6.561,
                6.494,
                6.491,
                6.483,
                6.461,
                6.435,
                6.431,
                6.377,
                6.372,
                6.331,
                6.33,
                6.317,
                6.309,
                6.255,
                6.223,
                6.189,
                6.18,
                6.179,
                6.172,
                6.166,
                6.152,
                6.14,
                6.106,
                6.078,
                6.061,
                6.049,
                6.032,
                6.012,
                5.992,
                5.985,
                5.972,
                5.94,
                5.929,
                5.929,
                5.919,
                5.882,
                5.88,
                5.845,
                5.84,
                5.813,
                5.766,
                5.764,
                5.744,
                5.723,
                5.716,
                5.677,
                5.653,
                5.581,
                5.545,
                5.536,
                5.534,
                5.477,
                5.477,
                5.466,
                5.411,
                5.41,
                5.384,
                5.345,
                5.342,
                5.339,
                5.306,
                5.283,
                5.269,
                5.266,
                5.198,
                5.171,
                5.142,
                5.132,
                5.117,
                5.101,
                5.088,
                5.074,
                5.066,
                5.051,
                5.045,
                5.03,
                5.025,
                4.984,
                4.956,
                4.948,
                4.934,
                4.918,
                4.892,
                4.891,
                4.887,
                4.875,
                4.854,
                4.852,
                4.834,
                4.83,
                4.794,
                4.759,
                4.723,
                4.721,
                4.636,
                4.625,
                4.607,
                4.596,
                4.584,
                4.574,
                4.517,
                4.426,
                4.395,
                4.355,
                4.325,
                4.308,
                4.289,
                4.283,
                4.275,
                4.227,
                4.208,
                4.107,
                4.073,
                3.849,
                3.819,
                3.775,
                3.658,
                3.623,
                3.615,
                3.6,
                3.512,
                3.467,
                3.415,
                3.145,
                2.523
               ]
              ]
             },
             {
              "coloraxis.colorscale": "Viridis"
             }
            ],
            "label": "Ladder score",
            "method": "update"
           },
           {
            "args": [
             {
              "hovertemplate": "Country name: %{customdata[0]}<br>Perceptions of corruption: %{customdata[2]}<extra></extra>",
              "z": [
               [
                0.186,
                0.179,
                0.292,
                0.673,
                0.338,
                0.27,
                0.237,
                0.386,
                0.242,
                0.481,
                0.442,
                0.753,
                0.46,
                0.415,
                0.363,
                0.809,
                0.459,
                0.868,
                0.698,
                0.646,
                0.571,
                0.722,
                0.653,
                0.721,
                0.589,
                0.684,
                0.745,
                0.866,
                0.806,
                0.775,
                0.59,
                0.082,
                0.917,
                0.911,
                0.756,
                0.799,
                0.884,
                0.826,
                0.844,
                0.527,
                0.856,
                0.515,
                0.83,
                0.735,
                0.733,
                0.938,
                0.736,
                0.835,
                0.688,
                0.789,
                0.8,
                0.841,
                0.876,
                0.895,
                0.664,
                0.638,
                0.834,
                0.887,
                0.809,
                0.939,
                0.742,
                0.727,
                0.891,
                0.931,
                0.918,
                0.843,
                0.908,
                0.823,
                0.839,
                0.856,
                0.882,
                0.812,
                0.714,
                0.626,
                0.627,
                0.845,
                0.403,
                0.553,
                0.796,
                0.667,
                0.839,
                0.867,
                0.745,
                0.755,
                0.794,
                0.629,
                0.727,
                0.932,
                0.825,
                0.506,
                0.848,
                0.801,
                0.901,
                0.905,
                0.848,
                0.693,
                0.888,
                0.746,
                0.661,
                0.658,
                0.682,
                0.766,
                0.86,
                0.776,
                0.787,
                0.801,
                0.827,
                0.655,
                0.752,
                0.924,
                0.875,
                0.84,
                0.748,
                0.843,
                0.684,
                0.878,
                0.827,
                0.714,
                0.855,
                0.85,
                0.825,
                0.87,
                0.898,
                0.847,
                0.821,
                0.66,
                0.705,
                0.807,
                0.863,
                0.708,
                0.781,
                0.795,
                0.761,
                0.731,
                0.803,
                0.772,
                0.823,
                0.866,
                0.774,
                0.607,
                0.8,
                0.577,
                0.721,
                0.729,
                0.915,
                0.801,
                0.167,
                0.821,
                0.924
               ]
              ]
             },
             {
              "coloraxis.colorscale": [
               [
                0,
                "#ffffe0"
               ],
               [
                0.1,
                "#ffe6b2"
               ],
               [
                0.2,
                "#ffcb91"
               ],
               [
                0.3,
                "#ffaf79"
               ],
               [
                0.4,
                "#fe8f6a"
               ],
               [
                0.5,
                "#f47361"
               ],
               [
                0.6,
                "#e65758"
               ],
               [
                0.7,
                "#d53d4c"
               ],
               [
                0.8,
                "#c0223b"
               ],
               [
                0.9,
                "#a70b24"
               ],
               [
                1,
                "#8b0000"
               ]
              ]
             }
            ],
            "label": "Corruption",
            "method": "update"
           },
           {
            "args": [
             {
              "hovertemplate": "Country name: %{customdata[0]}<br>Logged GDP per capita': %{customdata[3]}<extra></extra>",
              "z": [
               [
                10.775,
                10.933,
                11.117,
                10.878,
                10.932,
                11.053,
                10.867,
                11.647,
                10.643,
                10.906,
                10.796,
                10.575,
                10.873,
                10.776,
                11.342,
                9.88,
                10.707,
                10.556,
                11.023,
                10.823,
                10.704,
                10.669,
                10.674,
                10.871,
                11.085,
                10.743,
                10.571,
                10.623,
                10.529,
                9.053,
                9.966,
                11.488,
                9.318,
                10.369,
                9.577,
                9.859,
                9.186,
                10.499,
                10.576,
                10.481,
                10.35,
                8.836,
                10.071,
                10.382,
                10.155,
                10.284,
                10.817,
                9.787,
                9.054,
                10.008,
                10.315,
                9.557,
                10.358,
                9.805,
                8.62,
                10.611,
                9.962,
                10.421,
                8.648,
                10.217,
                9.076,
                10.651,
                9.458,
                9.59,
                9.454,
                9.313,
                8.538,
                10.279,
                9.046,
                9.4,
                9.448,
                9.94,
                9.802,
                10.576,
                9.853,
                10.189,
                11,
                8.091,
                8.973,
                9.622,
                10.238,
                9.365,
                8.117,
                9.673,
                8.551,
                9.487,
                8.12,
                10.016,
                9.826,
                9.569,
                8.189,
                8.118,
                9.52,
                9.693,
                8.58,
                7.098,
                9.629,
                7.686,
                8.087,
                8.947,
                8.454,
                7.838,
                9.403,
                10.24,
                8.458,
                8.903,
                9.073,
                9.585,
                9.342,
                9.436,
                9.24,
                9.603,
                7.678,
                8.36,
                7.158,
                8.533,
                7.744,
                9.584,
                7.677,
                7.288,
                8.361,
                9.266,
                9.626,
                9.161,
                8.485,
                8.541,
                9.182,
                7.364,
                9.47,
                9.065,
                8.031,
                9.367,
                7.694,
                8.542,
                7.396,
                7.362,
                8.145,
                7.434,
                8.755,
                6.635,
                7.578,
                7.876,
                7.477,
                6.958,
                7.926,
                9.782,
                7.676,
                7.943,
                7.695
               ]
              ]
             },
             {
              "coloraxis.colorscale": [
               [
                0,
                "#2f0f3d"
               ],
               [
                0.1,
                "#4f1552"
               ],
               [
                0.2,
                "#72195f"
               ],
               [
                0.3,
                "#931f63"
               ],
               [
                0.4,
                "#b32e5e"
               ],
               [
                0.5,
                "#cf4456"
               ],
               [
                0.6,
                "#e26152"
               ],
               [
                0.7,
                "#ee845d"
               ],
               [
                0.8,
                "#f5a672"
               ],
               [
                0.9,
                "#faca8f"
               ],
               [
                1,
                "#fdedb0"
               ]
              ]
             }
            ],
            "label": "GDP per Capita",
            "method": "update"
           },
           {
            "args": [
             {
              "hovertemplate": "Country name: %{customdata[0]}<br>Social support: %{customdata[4]}<extra></extra>",
              "z": [
               [
                0.954,
                0.954,
                0.942,
                0.983,
                0.942,
                0.954,
                0.934,
                0.908,
                0.948,
                0.934,
                0.94,
                0.939,
                0.903,
                0.926,
                0.947,
                0.891,
                0.934,
                0.947,
                0.92,
                0.906,
                0.942,
                0.862,
                0.931,
                0.898,
                0.844,
                0.891,
                0.932,
                0.88,
                0.948,
                0.813,
                0.925,
                0.915,
                0.821,
                0.936,
                0.882,
                0.831,
                0.877,
                0.935,
                0.802,
                0.941,
                0.896,
                0.918,
                0.882,
                0.898,
                0.952,
                0.832,
                0.843,
                0.873,
                0.762,
                0.905,
                0.927,
                0.847,
                0.943,
                0.888,
                0.864,
                0.884,
                0.898,
                0.879,
                0.812,
                0.924,
                0.83,
                0.799,
                0.832,
                0.87,
                0.857,
                0.821,
                0.893,
                0.823,
                0.81,
                0.935,
                0.893,
                0.858,
                0.853,
                0.82,
                0.91,
                0.903,
                0.836,
                0.86,
                0.85,
                0.827,
                0.817,
                0.811,
                0.636,
                0.811,
                0.644,
                0.799,
                0.774,
                0.931,
                0.913,
                0.836,
                0.71,
                0.71,
                0.697,
                0.805,
                0.727,
                0.641,
                0.983,
                0.69,
                0.489,
                0.728,
                0.693,
                0.639,
                0.86,
                0.822,
                0.651,
                0.56,
                0.861,
                0.671,
                0.802,
                0.888,
                0.746,
                0.776,
                0.672,
                0.765,
                0.744,
                0.74,
                0.724,
                0.71,
                0.781,
                0.72,
                0.688,
                0.691,
                0.848,
                0.818,
                0.826,
                0.779,
                0.767,
                0.619,
                0.827,
                0.77,
                0.626,
                0.75,
                0.764,
                0.795,
                0.686,
                0.569,
                0.708,
                0.63,
                0.603,
                0.49,
                0.832,
                0.702,
                0.54,
                0.537,
                0.787,
                0.784,
                0.552,
                0.75,
                0.463
               ]
              ]
             },
             {
              "coloraxis.colorscale": [
               [
                0,
                "#3498db"
               ],
               [
                0.1,
                "#5dade2"
               ],
               [
                0.2,
                "#85c1e9"
               ],
               [
                0.3,
                "#a9cce3"
               ],
               [
                0.4,
                "#d4e6f1"
               ],
               [
                0.5,
                "#f9e79f"
               ],
               [
                0.6,
                "#f7dc6f"
               ],
               [
                0.7,
                "#f4d03f"
               ],
               [
                0.8,
                "#f1c40f"
               ],
               [
                0.9,
                "#e67e22"
               ],
               [
                1,
                "#d35400"
               ]
              ]
             }
            ],
            "label": "Social Support",
            "method": "update"
           },
           {
            "args": [
             {
              "hovertemplate": "Country name: %{customdata[0]}<br>Healthy life expectancy: %{customdata[5]}<extra></extra>",
              "z": [
               [
                0.186,
                0.179,
                0.292,
                0.673,
                0.338,
                0.27,
                0.237,
                0.386,
                0.242,
                0.481,
                0.442,
                0.753,
                0.46,
                0.415,
                0.363,
                0.809,
                0.459,
                0.868,
                0.698,
                0.646,
                0.571,
                0.722,
                0.653,
                0.721,
                0.589,
                0.684,
                0.745,
                0.866,
                0.806,
                0.775,
                0.59,
                0.082,
                0.917,
                0.911,
                0.756,
                0.799,
                0.884,
                0.826,
                0.844,
                0.527,
                0.856,
                0.515,
                0.83,
                0.735,
                0.733,
                0.938,
                0.736,
                0.835,
                0.688,
                0.789,
                0.8,
                0.841,
                0.876,
                0.895,
                0.664,
                0.638,
                0.834,
                0.887,
                0.809,
                0.939,
                0.742,
                0.727,
                0.891,
                0.931,
                0.918,
                0.843,
                0.908,
                0.823,
                0.839,
                0.856,
                0.882,
                0.812,
                0.714,
                0.626,
                0.627,
                0.845,
                0.403,
                0.553,
                0.796,
                0.667,
                0.839,
                0.867,
                0.745,
                0.755,
                0.794,
                0.629,
                0.727,
                0.932,
                0.825,
                0.506,
                0.848,
                0.801,
                0.901,
                0.905,
                0.848,
                0.693,
                0.888,
                0.746,
                0.661,
                0.658,
                0.682,
                0.766,
                0.86,
                0.776,
                0.787,
                0.801,
                0.827,
                0.655,
                0.752,
                0.924,
                0.875,
                0.84,
                0.748,
                0.843,
                0.684,
                0.878,
                0.827,
                0.714,
                0.855,
                0.85,
                0.825,
                0.87,
                0.898,
                0.847,
                0.821,
                0.66,
                0.705,
                0.807,
                0.863,
                0.708,
                0.781,
                0.795,
                0.761,
                0.731,
                0.803,
                0.772,
                0.823,
                0.866,
                0.774,
                0.607,
                0.8,
                0.577,
                0.721,
                0.729,
                0.915,
                0.801,
                0.167,
                0.821,
                0.924
               ]
              ]
             },
             {
              "coloraxis.colorscale": [
               [
                0,
                "#2f0f3d"
               ],
               [
                0.1,
                "#4f1552"
               ],
               [
                0.2,
                "#72195f"
               ],
               [
                0.3,
                "#931f63"
               ],
               [
                0.4,
                "#b32e5e"
               ],
               [
                0.5,
                "#cf4456"
               ],
               [
                0.6,
                "#e26152"
               ],
               [
                0.7,
                "#ee845d"
               ],
               [
                0.8,
                "#f5a672"
               ],
               [
                0.9,
                "#faca8f"
               ],
               [
                1,
                "#fdedb0"
               ]
              ]
             }
            ],
            "label": "Healthy life expectancy",
            "method": "update"
           },
           {
            "args": [
             {
              "hovertemplate": "Country name: %{customdata[0]}<br>Freedom to make life choices: %{customdata[6]}<extra></extra>",
              "z": [
               [
                10.775,
                10.933,
                11.117,
                10.878,
                10.932,
                11.053,
                10.867,
                11.647,
                10.643,
                10.906,
                10.796,
                10.575,
                10.873,
                10.776,
                11.342,
                9.88,
                10.707,
                10.556,
                11.023,
                10.823,
                10.704,
                10.669,
                10.674,
                10.871,
                11.085,
                10.743,
                10.571,
                10.623,
                10.529,
                9.053,
                9.966,
                11.488,
                9.318,
                10.369,
                9.577,
                9.859,
                9.186,
                10.499,
                10.576,
                10.481,
                10.35,
                8.836,
                10.071,
                10.382,
                10.155,
                10.284,
                10.817,
                9.787,
                9.054,
                10.008,
                10.315,
                9.557,
                10.358,
                9.805,
                8.62,
                10.611,
                9.962,
                10.421,
                8.648,
                10.217,
                9.076,
                10.651,
                9.458,
                9.59,
                9.454,
                9.313,
                8.538,
                10.279,
                9.046,
                9.4,
                9.448,
                9.94,
                9.802,
                10.576,
                9.853,
                10.189,
                11,
                8.091,
                8.973,
                9.622,
                10.238,
                9.365,
                8.117,
                9.673,
                8.551,
                9.487,
                8.12,
                10.016,
                9.826,
                9.569,
                8.189,
                8.118,
                9.52,
                9.693,
                8.58,
                7.098,
                9.629,
                7.686,
                8.087,
                8.947,
                8.454,
                7.838,
                9.403,
                10.24,
                8.458,
                8.903,
                9.073,
                9.585,
                9.342,
                9.436,
                9.24,
                9.603,
                7.678,
                8.36,
                7.158,
                8.533,
                7.744,
                9.584,
                7.677,
                7.288,
                8.361,
                9.266,
                9.626,
                9.161,
                8.485,
                8.541,
                9.182,
                7.364,
                9.47,
                9.065,
                8.031,
                9.367,
                7.694,
                8.542,
                7.396,
                7.362,
                8.145,
                7.434,
                8.755,
                6.635,
                7.578,
                7.876,
                7.477,
                6.958,
                7.926,
                9.782,
                7.676,
                7.943,
                7.695
               ]
              ]
             },
             {
              "coloraxis.colorscale": [
               [
                0,
                "#2f0f3d"
               ],
               [
                0.1,
                "#4f1552"
               ],
               [
                0.2,
                "#72195f"
               ],
               [
                0.3,
                "#931f63"
               ],
               [
                0.4,
                "#b32e5e"
               ],
               [
                0.5,
                "#cf4456"
               ],
               [
                0.6,
                "#e26152"
               ],
               [
                0.7,
                "#ee845d"
               ],
               [
                0.8,
                "#f5a672"
               ],
               [
                0.9,
                "#faca8f"
               ],
               [
                1,
                "#fdedb0"
               ]
              ]
             }
            ],
            "label": "Freedom to make life choices",
            "method": "update"
           },
           {
            "args": [
             {
              "hovertemplate": "Country name: %{customdata[0]}<br>Generosity: %{customdata[7]}<extra></extra>",
              "z": [
               [
                -0.098,
                0.03,
                0.025,
                0.16,
                0.175,
                0.093,
                0.086,
                -0.034,
                0.134,
                0.042,
                0.159,
                0.031,
                0.011,
                0.089,
                0.077,
                -0.126,
                0.233,
                -0.208,
                0.098,
                -0.153,
                -0.147,
                0.089,
                0.133,
                -0.07,
                0.074,
                -0.149,
                -0.081,
                -0.084,
                -0.101,
                -0.038,
                -0.092,
                -0.018,
                0.257,
                -0.124,
                -0.071,
                -0.147,
                -0.137,
                -0.203,
                -0.015,
                -0.106,
                -0.166,
                0.311,
                -0.044,
                -0.165,
                -0.069,
                -0.219,
                -0.104,
                0.002,
                -0.11,
                -0.054,
                -0.162,
                -0.135,
                -0.186,
                0.287,
                0.02,
                -0.258,
                -0.182,
                -0.244,
                0.081,
                -0.118,
                -0.097,
                -0.083,
                -0.154,
                0.113,
                -0.079,
                -0.124,
                0.119,
                -0.288,
                -0.077,
                0.116,
                0.028,
                -0.034,
                -0.133,
                0.012,
                -0.18,
                -0.111,
                0.067,
                -0.056,
                -0.098,
                -0.087,
                0.125,
                0.542,
                -0.068,
                -0.146,
                -0.016,
                -0.168,
                0.152,
                -0.096,
                0.024,
                -0.223,
                0.026,
                -0.046,
                -0.03,
                0.038,
                0.123,
                0.018,
                0.273,
                0.424,
                -0.034,
                0.123,
                -0.041,
                0.095,
                -0.067,
                -0.139,
                0.098,
                -0.236,
                -0.169,
                -0.238,
                -0.067,
                -0.011,
                -0.053,
                -0.2,
                -0.009,
                0.034,
                0.061,
                0.037,
                -0.036,
                0.218,
                0.122,
                0.05,
                0.287,
                -0.201,
                -0.073,
                -0.149,
                -0.163,
                0.509,
                -0.167,
                0.041,
                0.079,
                -0.185,
                0.082,
                -0.182,
                0.082,
                -0.106,
                -0.005,
                0.032,
                0.061,
                0.084,
                0.089,
                -0.024,
                -0.147,
                0.183,
                0.422,
                0.038,
                -0.131,
                -0.246,
                0.061,
                -0.047,
                -0.102
               ]
              ]
             },
             {
              "coloraxis.colorscale": [
               [
                0,
                "#2f0f3d"
               ],
               [
                0.1,
                "#4f1552"
               ],
               [
                0.2,
                "#72195f"
               ],
               [
                0.3,
                "#931f63"
               ],
               [
                0.4,
                "#b32e5e"
               ],
               [
                0.5,
                "#cf4456"
               ],
               [
                0.6,
                "#e26152"
               ],
               [
                0.7,
                "#ee845d"
               ],
               [
                0.8,
                "#f5a672"
               ],
               [
                0.9,
                "#faca8f"
               ],
               [
                1,
                "#fdedb0"
               ]
              ]
             }
            ],
            "label": "Generosity",
            "method": "update"
           }
          ]
         }
        ]
       }
      },
      "text/html": [
       "<div>                            <div id=\"b7bdc760-c8ba-4ba9-87a3-1867b451dd40\" class=\"plotly-graph-div\" style=\"height:525px; width:100%;\"></div>            <script type=\"text/javascript\">                require([\"plotly\"], function(Plotly) {                    window.PLOTLYENV=window.PLOTLYENV || {};                                    if (document.getElementById(\"b7bdc760-c8ba-4ba9-87a3-1867b451dd40\")) {                    Plotly.newPlot(                        \"b7bdc760-c8ba-4ba9-87a3-1867b451dd40\",                        [{\"coloraxis\":\"coloraxis\",\"customdata\":[[\"Finland\",7.842,0.186,10.775,0.954,72.0,0.949,-0.098],[\"Denmark\",7.62,0.179,10.933,0.954,72.7,0.946,0.03],[\"Switzerland\",7.571,0.292,11.117,0.942,74.4,0.919,0.025],[\"Iceland\",7.554,0.673,10.878,0.983,73.0,0.955,0.16],[\"Netherlands\",7.464,0.338,10.932,0.942,72.4,0.913,0.175],[\"Norway\",7.392,0.27,11.053,0.954,73.3,0.96,0.093],[\"Sweden\",7.363,0.237,10.867,0.934,72.7,0.945,0.086],[\"Luxembourg\",7.324,0.386,11.647,0.908,72.6,0.907,-0.034],[\"New Zealand\",7.277,0.242,10.643,0.948,73.4,0.929,0.134],[\"Austria\",7.268,0.481,10.906,0.934,73.3,0.908,0.042],[\"Australia\",7.183,0.442,10.796,0.94,73.9,0.914,0.159],[\"Israel\",7.157,0.753,10.575,0.939,73.503,0.8,0.031],[\"Germany\",7.155,0.46,10.873,0.903,72.5,0.875,0.011],[\"Canada\",7.103,0.415,10.776,0.926,73.8,0.915,0.089],[\"Ireland\",7.085,0.363,11.342,0.947,72.4,0.879,0.077],[\"Costa Rica\",7.069,0.809,9.88,0.891,71.4,0.934,-0.126],[\"United Kingdom\",7.064,0.459,10.707,0.934,72.5,0.859,0.233],[\"Czech Republic\",6.965,0.868,10.556,0.947,70.807,0.858,-0.208],[\"United States\",6.951,0.698,11.023,0.92,68.2,0.837,0.098],[\"Belgium\",6.834,0.646,10.823,0.906,72.199,0.783,-0.153],[\"France\",6.69,0.571,10.704,0.942,74.0,0.822,-0.147],[\"Bahrain\",6.647,0.722,10.669,0.862,69.495,0.925,0.089],[\"Malta\",6.602,0.653,10.674,0.931,72.2,0.927,0.133],[\"Taiwan Province of China\",6.584,0.721,10.871,0.898,69.6,0.784,-0.07],[\"United Arab Emirates\",6.561,0.589,11.085,0.844,67.333,0.932,0.074],[\"Saudi Arabia\",6.494,0.684,10.743,0.891,66.603,0.877,-0.149],[\"Spain\",6.491,0.745,10.571,0.932,74.7,0.761,-0.081],[\"Italy\",6.483,0.866,10.623,0.88,73.8,0.693,-0.084],[\"Slovenia\",6.461,0.806,10.529,0.948,71.4,0.949,-0.101],[\"Guatemala\",6.435,0.775,9.053,0.813,64.958,0.906,-0.038],[\"Uruguay\",6.431,0.59,9.966,0.925,69.1,0.896,-0.092],[\"Singapore\",6.377,0.082,11.488,0.915,76.953,0.927,-0.018],[\"Kosovo\",6.372,0.917,9.318,0.821,63.813,0.869,0.257],[\"Slovakia\",6.331,0.911,10.369,0.936,69.201,0.766,-0.124],[\"Brazil\",6.33,0.756,9.577,0.882,66.601,0.804,-0.071],[\"Mexico\",6.317,0.799,9.859,0.831,68.597,0.862,-0.147],[\"Jamaica\",6.309,0.884,9.186,0.877,67.5,0.89,-0.137],[\"Lithuania\",6.255,0.826,10.499,0.935,67.906,0.773,-0.203],[\"Cyprus\",6.223,0.844,10.576,0.802,73.898,0.763,-0.015],[\"Estonia\",6.189,0.527,10.481,0.941,68.8,0.909,-0.106],[\"Panama\",6.18,0.856,10.35,0.896,69.652,0.872,-0.166],[\"Uzbekistan\",6.179,0.515,8.836,0.918,65.255,0.97,0.311],[\"Chile\",6.172,0.83,10.071,0.882,70.0,0.742,-0.044],[\"Poland\",6.166,0.735,10.382,0.898,69.702,0.841,-0.165],[\"Kazakhstan\",6.152,0.733,10.155,0.952,65.2,0.853,-0.069],[\"Romania\",6.14,0.938,10.284,0.832,67.355,0.845,-0.219],[\"Kuwait\",6.106,0.736,10.817,0.843,66.9,0.867,-0.104],[\"Serbia\",6.078,0.835,9.787,0.873,68.6,0.778,0.002],[\"El Salvador\",6.061,0.688,9.054,0.762,66.402,0.888,-0.11],[\"Mauritius\",6.049,0.789,10.008,0.905,66.701,0.867,-0.054],[\"Latvia\",6.032,0.8,10.315,0.927,67.1,0.715,-0.162],[\"Colombia\",6.012,0.841,9.557,0.847,68.001,0.837,-0.135],[\"Hungary\",5.992,0.876,10.358,0.943,68.0,0.755,-0.186],[\"Thailand\",5.985,0.895,9.805,0.888,67.401,0.884,0.287],[\"Nicaragua\",5.972,0.664,8.62,0.864,67.657,0.836,0.02],[\"Japan\",5.94,0.638,10.611,0.884,75.1,0.796,-0.258],[\"Argentina\",5.929,0.834,9.962,0.898,69.0,0.828,-0.182],[\"Portugal\",5.929,0.887,10.421,0.879,72.6,0.892,-0.244],[\"Honduras\",5.919,0.809,8.648,0.812,67.3,0.857,0.081],[\"Croatia\",5.882,0.939,10.217,0.924,70.799,0.754,-0.118],[\"Philippines\",5.88,0.742,9.076,0.83,62.0,0.917,-0.097],[\"South Korea\",5.845,0.727,10.651,0.799,73.9,0.672,-0.083],[\"Peru\",5.84,0.891,9.458,0.832,68.25,0.822,-0.154],[\"Bosnia and Herzegovina\",5.813,0.931,9.59,0.87,68.098,0.706,0.113],[\"Moldova\",5.766,0.918,9.454,0.857,65.699,0.822,-0.079],[\"Ecuador\",5.764,0.843,9.313,0.821,68.8,0.842,-0.124],[\"Kyrgyzstan\",5.744,0.908,8.538,0.893,64.401,0.935,0.119],[\"Greece\",5.723,0.823,10.279,0.823,72.6,0.582,-0.288],[\"Bolivia\",5.716,0.839,9.046,0.81,63.901,0.875,-0.077],[\"Mongolia\",5.677,0.856,9.4,0.935,62.5,0.708,0.116],[\"Paraguay\",5.653,0.882,9.448,0.893,65.9,0.876,0.028],[\"Montenegro\",5.581,0.812,9.94,0.858,68.699,0.708,-0.034],[\"Dominican Republic\",5.545,0.714,9.802,0.853,66.102,0.86,-0.133],[\"North Cyprus\",5.536,0.626,10.576,0.82,73.898,0.795,0.012],[\"Belarus\",5.534,0.627,9.853,0.91,66.253,0.65,-0.18],[\"Russia\",5.477,0.845,10.189,0.903,64.703,0.718,-0.111],[\"Hong Kong S.A.R. of China\",5.477,0.403,11.0,0.836,76.82,0.717,0.067],[\"Tajikistan\",5.466,0.553,8.091,0.86,64.281,0.832,-0.056],[\"Vietnam\",5.411,0.796,8.973,0.85,68.034,0.94,-0.098],[\"Libya\",5.41,0.667,9.622,0.827,62.3,0.771,-0.087],[\"Malaysia\",5.384,0.839,10.238,0.817,67.102,0.895,0.125],[\"Indonesia\",5.345,0.867,9.365,0.811,62.236,0.873,0.542],[\"Congo (Brazzaville)\",5.342,0.745,8.117,0.636,58.221,0.695,-0.068],[\"China\",5.339,0.755,9.673,0.811,69.593,0.904,-0.146],[\"Ivory Coast\",5.306,0.794,8.551,0.644,50.114,0.741,-0.016],[\"Armenia\",5.283,0.629,9.487,0.799,67.055,0.825,-0.168],[\"Nepal\",5.269,0.727,8.12,0.774,64.233,0.782,0.152],[\"Bulgaria\",5.266,0.932,10.016,0.931,67.0,0.788,-0.096],[\"Maldives\",5.198,0.825,9.826,0.913,70.6,0.854,0.024],[\"Azerbaijan\",5.171,0.506,9.569,0.836,65.656,0.814,-0.223],[\"Cameroon\",5.142,0.848,8.189,0.71,53.515,0.731,0.026],[\"Senegal\",5.132,0.801,8.118,0.71,59.802,0.695,-0.046],[\"Albania\",5.117,0.901,9.52,0.697,68.999,0.785,-0.03],[\"North Macedonia\",5.101,0.905,9.693,0.805,65.474,0.751,0.038],[\"Ghana\",5.088,0.848,8.58,0.727,57.586,0.807,0.123],[\"Niger\",5.074,0.693,7.098,0.641,53.78,0.806,0.018],[\"Turkmenistan\",5.066,0.888,9.629,0.983,62.409,0.877,0.273],[\"Gambia\",5.051,0.746,7.686,0.69,55.16,0.697,0.424],[\"Benin\",5.045,0.661,8.087,0.489,54.713,0.757,-0.034],[\"Laos\",5.03,0.658,8.947,0.728,58.968,0.91,0.123],[\"Bangladesh\",5.025,0.682,8.454,0.693,64.8,0.877,-0.041],[\"Guinea\",4.984,0.766,7.838,0.639,55.008,0.697,0.095],[\"South Africa\",4.956,0.86,9.403,0.86,56.904,0.749,-0.067],[\"Turkey\",4.948,0.776,10.24,0.822,67.199,0.576,-0.139],[\"Pakistan\",4.934,0.787,8.458,0.651,58.709,0.726,0.098],[\"Morocco\",4.918,0.801,8.903,0.56,66.208,0.774,-0.236],[\"Venezuela\",4.892,0.827,9.073,0.861,66.7,0.615,-0.169],[\"Georgia\",4.891,0.655,9.585,0.671,64.3,0.783,-0.238],[\"Algeria\",4.887,0.752,9.342,0.802,66.005,0.48,-0.067],[\"Ukraine\",4.875,0.924,9.436,0.888,64.902,0.724,-0.011],[\"Iraq\",4.854,0.875,9.24,0.746,60.583,0.63,-0.053],[\"Gabon\",4.852,0.84,9.603,0.776,59.962,0.731,-0.2],[\"Burkina Faso\",4.834,0.748,7.678,0.672,54.151,0.695,-0.009],[\"Cambodia\",4.83,0.843,8.36,0.765,62.0,0.959,0.034],[\"Mozambique\",4.794,0.684,7.158,0.744,54.706,0.882,0.061],[\"Nigeria\",4.759,0.878,8.533,0.74,50.102,0.737,0.037],[\"Mali\",4.723,0.827,7.744,0.724,51.969,0.697,-0.036],[\"Iran\",4.721,0.714,9.584,0.71,66.3,0.608,0.218],[\"Uganda\",4.636,0.855,7.677,0.781,56.101,0.709,0.122],[\"Liberia\",4.625,0.85,7.288,0.72,56.498,0.735,0.05],[\"Kenya\",4.607,0.825,8.361,0.688,60.704,0.779,0.287],[\"Tunisia\",4.596,0.87,9.266,0.691,67.201,0.656,-0.201],[\"Lebanon\",4.584,0.898,9.626,0.848,67.355,0.525,-0.073],[\"Namibia\",4.574,0.847,9.161,0.818,56.799,0.719,-0.149],[\"Palestinian Territories\",4.517,0.821,8.485,0.826,62.25,0.653,-0.163],[\"Myanmar\",4.426,0.66,8.541,0.779,59.302,0.876,0.509],[\"Jordan\",4.395,0.705,9.182,0.767,67.0,0.755,-0.167],[\"Chad\",4.355,0.807,7.364,0.619,48.478,0.579,0.041],[\"Sri Lanka\",4.325,0.863,9.47,0.827,67.299,0.841,0.079],[\"Swaziland\",4.308,0.708,9.065,0.77,50.833,0.647,-0.185],[\"Comoros\",4.289,0.781,8.031,0.626,57.349,0.548,0.082],[\"Egypt\",4.283,0.795,9.367,0.75,61.998,0.749,-0.182],[\"Ethiopia\",4.275,0.761,7.694,0.764,59.0,0.752,0.082],[\"Mauritania\",4.227,0.731,8.542,0.795,57.161,0.561,-0.106],[\"Madagascar\",4.208,0.803,7.396,0.686,59.305,0.552,-0.005],[\"Togo\",4.107,0.772,7.362,0.569,54.914,0.619,0.032],[\"Zambia\",4.073,0.823,8.145,0.708,55.809,0.782,0.061],[\"Sierra Leone\",3.849,0.866,7.434,0.63,51.651,0.717,0.084],[\"India\",3.819,0.774,8.755,0.603,60.633,0.893,0.089],[\"Burundi\",3.775,0.607,6.635,0.49,53.4,0.626,-0.024],[\"Yemen\",3.658,0.8,7.578,0.832,57.122,0.602,-0.147],[\"Tanzania\",3.623,0.577,7.876,0.702,57.999,0.833,0.183],[\"Haiti\",3.615,0.721,7.477,0.54,55.7,0.593,0.422],[\"Malawi\",3.6,0.729,6.958,0.537,57.948,0.78,0.038],[\"Lesotho\",3.512,0.915,7.926,0.787,48.7,0.715,-0.131],[\"Botswana\",3.467,0.801,9.782,0.784,59.269,0.824,-0.246],[\"Rwanda\",3.415,0.167,7.676,0.552,61.4,0.897,0.061],[\"Zimbabwe\",3.145,0.821,7.943,0.75,56.201,0.677,-0.047],[\"Afghanistan\",2.523,0.924,7.695,0.463,52.493,0.382,-0.102]],\"featureidkey\":\"properties.name\",\"geojson\":\"world.geo.json\\u002fcountries.geo.json\",\"hovertemplate\":\"\\u003cb\\u003eCountry:\\u003c\\u002fb\\u003e %{customdata[0]}\\u003cbr\\u003e\\u003cb\\u003eLadder score:\\u003c\\u002fb\\u003e %{customdata[1]:.2f}\\u003cbr\\u003e\\u003cb\\u003ePerceptions of corruption:\\u003c\\u002fb\\u003e %{customdata[2]:.2f}\\u003cbr\\u003e\\u003cb\\u003ePLogged GDP per capita:\\u003c\\u002fb\\u003e %{customdata[2]:.2f}\\u003cbr\\u003e\\u003cb\\u003eSocial support:\\u003c\\u002fb\\u003e %{customdata[2]:.2f}\\u003cbr\\u003e\\u003cb\\u003eHealthy life expectancy:\\u003c\\u002fb\\u003e %{customdata[2]:.2f}\\u003cbr\\u003e\\u003cb\\u003eFreedom to make life choices:\\u003c\\u002fb\\u003e %{customdata[2]:.2f}\\u003cbr\\u003e\\u003cb\\u003eGenerosity:\\u003c\\u002fb\\u003e %{customdata[2]:.2f}\\u003cextra\\u003e\\u003c\\u002fextra\\u003e\",\"locations\":[\"Finland\",\"Denmark\",\"Switzerland\",\"Iceland\",\"Netherlands\",\"Norway\",\"Sweden\",\"Luxembourg\",\"New Zealand\",\"Austria\",\"Australia\",\"Israel\",\"Germany\",\"Canada\",\"Ireland\",\"Costa Rica\",\"United Kingdom\",\"Czech Republic\",\"United States\",\"Belgium\",\"France\",\"Bahrain\",\"Malta\",\"Taiwan Province of China\",\"United Arab Emirates\",\"Saudi Arabia\",\"Spain\",\"Italy\",\"Slovenia\",\"Guatemala\",\"Uruguay\",\"Singapore\",\"Kosovo\",\"Slovakia\",\"Brazil\",\"Mexico\",\"Jamaica\",\"Lithuania\",\"Cyprus\",\"Estonia\",\"Panama\",\"Uzbekistan\",\"Chile\",\"Poland\",\"Kazakhstan\",\"Romania\",\"Kuwait\",\"Serbia\",\"El Salvador\",\"Mauritius\",\"Latvia\",\"Colombia\",\"Hungary\",\"Thailand\",\"Nicaragua\",\"Japan\",\"Argentina\",\"Portugal\",\"Honduras\",\"Croatia\",\"Philippines\",\"South Korea\",\"Peru\",\"Bosnia and Herzegovina\",\"Moldova\",\"Ecuador\",\"Kyrgyzstan\",\"Greece\",\"Bolivia\",\"Mongolia\",\"Paraguay\",\"Montenegro\",\"Dominican Republic\",\"North Cyprus\",\"Belarus\",\"Russia\",\"Hong Kong S.A.R. of China\",\"Tajikistan\",\"Vietnam\",\"Libya\",\"Malaysia\",\"Indonesia\",\"Congo (Brazzaville)\",\"China\",\"Ivory Coast\",\"Armenia\",\"Nepal\",\"Bulgaria\",\"Maldives\",\"Azerbaijan\",\"Cameroon\",\"Senegal\",\"Albania\",\"North Macedonia\",\"Ghana\",\"Niger\",\"Turkmenistan\",\"Gambia\",\"Benin\",\"Laos\",\"Bangladesh\",\"Guinea\",\"South Africa\",\"Turkey\",\"Pakistan\",\"Morocco\",\"Venezuela\",\"Georgia\",\"Algeria\",\"Ukraine\",\"Iraq\",\"Gabon\",\"Burkina Faso\",\"Cambodia\",\"Mozambique\",\"Nigeria\",\"Mali\",\"Iran\",\"Uganda\",\"Liberia\",\"Kenya\",\"Tunisia\",\"Lebanon\",\"Namibia\",\"Palestinian Territories\",\"Myanmar\",\"Jordan\",\"Chad\",\"Sri Lanka\",\"Swaziland\",\"Comoros\",\"Egypt\",\"Ethiopia\",\"Mauritania\",\"Madagascar\",\"Togo\",\"Zambia\",\"Sierra Leone\",\"India\",\"Burundi\",\"Yemen\",\"Tanzania\",\"Haiti\",\"Malawi\",\"Lesotho\",\"Botswana\",\"Rwanda\",\"Zimbabwe\",\"Afghanistan\"],\"marker\":{\"line\":{\"width\":0.5},\"opacity\":0.75},\"z\":[7.842,7.62,7.571,7.554,7.464,7.392,7.363,7.324,7.277,7.268,7.183,7.157,7.155,7.103,7.085,7.069,7.064,6.965,6.951,6.834,6.69,6.647,6.602,6.584,6.561,6.494,6.491,6.483,6.461,6.435,6.431,6.377,6.372,6.331,6.33,6.317,6.309,6.255,6.223,6.189,6.18,6.179,6.172,6.166,6.152,6.14,6.106,6.078,6.061,6.049,6.032,6.012,5.992,5.985,5.972,5.94,5.929,5.929,5.919,5.882,5.88,5.845,5.84,5.813,5.766,5.764,5.744,5.723,5.716,5.677,5.653,5.581,5.545,5.536,5.534,5.477,5.477,5.466,5.411,5.41,5.384,5.345,5.342,5.339,5.306,5.283,5.269,5.266,5.198,5.171,5.142,5.132,5.117,5.101,5.088,5.074,5.066,5.051,5.045,5.03,5.025,4.984,4.956,4.948,4.934,4.918,4.892,4.891,4.887,4.875,4.854,4.852,4.834,4.83,4.794,4.759,4.723,4.721,4.636,4.625,4.607,4.596,4.584,4.574,4.517,4.426,4.395,4.355,4.325,4.308,4.289,4.283,4.275,4.227,4.208,4.107,4.073,3.849,3.819,3.775,3.658,3.623,3.615,3.6,3.512,3.467,3.415,3.145,2.523],\"type\":\"choroplethmapbox\"}],                        {\"template\":{\"data\":{\"histogram2dcontour\":[{\"type\":\"histogram2dcontour\",\"colorbar\":{\"outlinewidth\":0,\"ticks\":\"\"},\"colorscale\":[[0.0,\"#0d0887\"],[0.1111111111111111,\"#46039f\"],[0.2222222222222222,\"#7201a8\"],[0.3333333333333333,\"#9c179e\"],[0.4444444444444444,\"#bd3786\"],[0.5555555555555556,\"#d8576b\"],[0.6666666666666666,\"#ed7953\"],[0.7777777777777778,\"#fb9f3a\"],[0.8888888888888888,\"#fdca26\"],[1.0,\"#f0f921\"]]}],\"choropleth\":[{\"type\":\"choropleth\",\"colorbar\":{\"outlinewidth\":0,\"ticks\":\"\"}}],\"histogram2d\":[{\"type\":\"histogram2d\",\"colorbar\":{\"outlinewidth\":0,\"ticks\":\"\"},\"colorscale\":[[0.0,\"#0d0887\"],[0.1111111111111111,\"#46039f\"],[0.2222222222222222,\"#7201a8\"],[0.3333333333333333,\"#9c179e\"],[0.4444444444444444,\"#bd3786\"],[0.5555555555555556,\"#d8576b\"],[0.6666666666666666,\"#ed7953\"],[0.7777777777777778,\"#fb9f3a\"],[0.8888888888888888,\"#fdca26\"],[1.0,\"#f0f921\"]]}],\"heatmap\":[{\"type\":\"heatmap\",\"colorbar\":{\"outlinewidth\":0,\"ticks\":\"\"},\"colorscale\":[[0.0,\"#0d0887\"],[0.1111111111111111,\"#46039f\"],[0.2222222222222222,\"#7201a8\"],[0.3333333333333333,\"#9c179e\"],[0.4444444444444444,\"#bd3786\"],[0.5555555555555556,\"#d8576b\"],[0.6666666666666666,\"#ed7953\"],[0.7777777777777778,\"#fb9f3a\"],[0.8888888888888888,\"#fdca26\"],[1.0,\"#f0f921\"]]}],\"heatmapgl\":[{\"type\":\"heatmapgl\",\"colorbar\":{\"outlinewidth\":0,\"ticks\":\"\"},\"colorscale\":[[0.0,\"#0d0887\"],[0.1111111111111111,\"#46039f\"],[0.2222222222222222,\"#7201a8\"],[0.3333333333333333,\"#9c179e\"],[0.4444444444444444,\"#bd3786\"],[0.5555555555555556,\"#d8576b\"],[0.6666666666666666,\"#ed7953\"],[0.7777777777777778,\"#fb9f3a\"],[0.8888888888888888,\"#fdca26\"],[1.0,\"#f0f921\"]]}],\"contourcarpet\":[{\"type\":\"contourcarpet\",\"colorbar\":{\"outlinewidth\":0,\"ticks\":\"\"}}],\"contour\":[{\"type\":\"contour\",\"colorbar\":{\"outlinewidth\":0,\"ticks\":\"\"},\"colorscale\":[[0.0,\"#0d0887\"],[0.1111111111111111,\"#46039f\"],[0.2222222222222222,\"#7201a8\"],[0.3333333333333333,\"#9c179e\"],[0.4444444444444444,\"#bd3786\"],[0.5555555555555556,\"#d8576b\"],[0.6666666666666666,\"#ed7953\"],[0.7777777777777778,\"#fb9f3a\"],[0.8888888888888888,\"#fdca26\"],[1.0,\"#f0f921\"]]}],\"surface\":[{\"type\":\"surface\",\"colorbar\":{\"outlinewidth\":0,\"ticks\":\"\"},\"colorscale\":[[0.0,\"#0d0887\"],[0.1111111111111111,\"#46039f\"],[0.2222222222222222,\"#7201a8\"],[0.3333333333333333,\"#9c179e\"],[0.4444444444444444,\"#bd3786\"],[0.5555555555555556,\"#d8576b\"],[0.6666666666666666,\"#ed7953\"],[0.7777777777777778,\"#fb9f3a\"],[0.8888888888888888,\"#fdca26\"],[1.0,\"#f0f921\"]]}],\"mesh3d\":[{\"type\":\"mesh3d\",\"colorbar\":{\"outlinewidth\":0,\"ticks\":\"\"}}],\"scatter\":[{\"fillpattern\":{\"fillmode\":\"overlay\",\"size\":10,\"solidity\":0.2},\"type\":\"scatter\"}],\"parcoords\":[{\"type\":\"parcoords\",\"line\":{\"colorbar\":{\"outlinewidth\":0,\"ticks\":\"\"}}}],\"scatterpolargl\":[{\"type\":\"scatterpolargl\",\"marker\":{\"colorbar\":{\"outlinewidth\":0,\"ticks\":\"\"}}}],\"bar\":[{\"error_x\":{\"color\":\"#2a3f5f\"},\"error_y\":{\"color\":\"#2a3f5f\"},\"marker\":{\"line\":{\"color\":\"#E5ECF6\",\"width\":0.5},\"pattern\":{\"fillmode\":\"overlay\",\"size\":10,\"solidity\":0.2}},\"type\":\"bar\"}],\"scattergeo\":[{\"type\":\"scattergeo\",\"marker\":{\"colorbar\":{\"outlinewidth\":0,\"ticks\":\"\"}}}],\"scatterpolar\":[{\"type\":\"scatterpolar\",\"marker\":{\"colorbar\":{\"outlinewidth\":0,\"ticks\":\"\"}}}],\"histogram\":[{\"marker\":{\"pattern\":{\"fillmode\":\"overlay\",\"size\":10,\"solidity\":0.2}},\"type\":\"histogram\"}],\"scattergl\":[{\"type\":\"scattergl\",\"marker\":{\"colorbar\":{\"outlinewidth\":0,\"ticks\":\"\"}}}],\"scatter3d\":[{\"type\":\"scatter3d\",\"line\":{\"colorbar\":{\"outlinewidth\":0,\"ticks\":\"\"}},\"marker\":{\"colorbar\":{\"outlinewidth\":0,\"ticks\":\"\"}}}],\"scattermapbox\":[{\"type\":\"scattermapbox\",\"marker\":{\"colorbar\":{\"outlinewidth\":0,\"ticks\":\"\"}}}],\"scatterternary\":[{\"type\":\"scatterternary\",\"marker\":{\"colorbar\":{\"outlinewidth\":0,\"ticks\":\"\"}}}],\"scattercarpet\":[{\"type\":\"scattercarpet\",\"marker\":{\"colorbar\":{\"outlinewidth\":0,\"ticks\":\"\"}}}],\"carpet\":[{\"aaxis\":{\"endlinecolor\":\"#2a3f5f\",\"gridcolor\":\"white\",\"linecolor\":\"white\",\"minorgridcolor\":\"white\",\"startlinecolor\":\"#2a3f5f\"},\"baxis\":{\"endlinecolor\":\"#2a3f5f\",\"gridcolor\":\"white\",\"linecolor\":\"white\",\"minorgridcolor\":\"white\",\"startlinecolor\":\"#2a3f5f\"},\"type\":\"carpet\"}],\"table\":[{\"cells\":{\"fill\":{\"color\":\"#EBF0F8\"},\"line\":{\"color\":\"white\"}},\"header\":{\"fill\":{\"color\":\"#C8D4E3\"},\"line\":{\"color\":\"white\"}},\"type\":\"table\"}],\"barpolar\":[{\"marker\":{\"line\":{\"color\":\"#E5ECF6\",\"width\":0.5},\"pattern\":{\"fillmode\":\"overlay\",\"size\":10,\"solidity\":0.2}},\"type\":\"barpolar\"}],\"pie\":[{\"automargin\":true,\"type\":\"pie\"}]},\"layout\":{\"autotypenumbers\":\"strict\",\"colorway\":[\"#636efa\",\"#EF553B\",\"#00cc96\",\"#ab63fa\",\"#FFA15A\",\"#19d3f3\",\"#FF6692\",\"#B6E880\",\"#FF97FF\",\"#FECB52\"],\"font\":{\"color\":\"#2a3f5f\"},\"hovermode\":\"closest\",\"hoverlabel\":{\"align\":\"left\"},\"paper_bgcolor\":\"white\",\"plot_bgcolor\":\"#E5ECF6\",\"polar\":{\"bgcolor\":\"#E5ECF6\",\"angularaxis\":{\"gridcolor\":\"white\",\"linecolor\":\"white\",\"ticks\":\"\"},\"radialaxis\":{\"gridcolor\":\"white\",\"linecolor\":\"white\",\"ticks\":\"\"}},\"ternary\":{\"bgcolor\":\"#E5ECF6\",\"aaxis\":{\"gridcolor\":\"white\",\"linecolor\":\"white\",\"ticks\":\"\"},\"baxis\":{\"gridcolor\":\"white\",\"linecolor\":\"white\",\"ticks\":\"\"},\"caxis\":{\"gridcolor\":\"white\",\"linecolor\":\"white\",\"ticks\":\"\"}},\"coloraxis\":{\"colorbar\":{\"outlinewidth\":0,\"ticks\":\"\"}},\"colorscale\":{\"sequential\":[[0.0,\"#0d0887\"],[0.1111111111111111,\"#46039f\"],[0.2222222222222222,\"#7201a8\"],[0.3333333333333333,\"#9c179e\"],[0.4444444444444444,\"#bd3786\"],[0.5555555555555556,\"#d8576b\"],[0.6666666666666666,\"#ed7953\"],[0.7777777777777778,\"#fb9f3a\"],[0.8888888888888888,\"#fdca26\"],[1.0,\"#f0f921\"]],\"sequentialminus\":[[0.0,\"#0d0887\"],[0.1111111111111111,\"#46039f\"],[0.2222222222222222,\"#7201a8\"],[0.3333333333333333,\"#9c179e\"],[0.4444444444444444,\"#bd3786\"],[0.5555555555555556,\"#d8576b\"],[0.6666666666666666,\"#ed7953\"],[0.7777777777777778,\"#fb9f3a\"],[0.8888888888888888,\"#fdca26\"],[1.0,\"#f0f921\"]],\"diverging\":[[0,\"#8e0152\"],[0.1,\"#c51b7d\"],[0.2,\"#de77ae\"],[0.3,\"#f1b6da\"],[0.4,\"#fde0ef\"],[0.5,\"#f7f7f7\"],[0.6,\"#e6f5d0\"],[0.7,\"#b8e186\"],[0.8,\"#7fbc41\"],[0.9,\"#4d9221\"],[1,\"#276419\"]]},\"xaxis\":{\"gridcolor\":\"white\",\"linecolor\":\"white\",\"ticks\":\"\",\"title\":{\"standoff\":15},\"zerolinecolor\":\"white\",\"automargin\":true,\"zerolinewidth\":2},\"yaxis\":{\"gridcolor\":\"white\",\"linecolor\":\"white\",\"ticks\":\"\",\"title\":{\"standoff\":15},\"zerolinecolor\":\"white\",\"automargin\":true,\"zerolinewidth\":2},\"scene\":{\"xaxis\":{\"backgroundcolor\":\"#E5ECF6\",\"gridcolor\":\"white\",\"linecolor\":\"white\",\"showbackground\":true,\"ticks\":\"\",\"zerolinecolor\":\"white\",\"gridwidth\":2},\"yaxis\":{\"backgroundcolor\":\"#E5ECF6\",\"gridcolor\":\"white\",\"linecolor\":\"white\",\"showbackground\":true,\"ticks\":\"\",\"zerolinecolor\":\"white\",\"gridwidth\":2},\"zaxis\":{\"backgroundcolor\":\"#E5ECF6\",\"gridcolor\":\"white\",\"linecolor\":\"white\",\"showbackground\":true,\"ticks\":\"\",\"zerolinecolor\":\"white\",\"gridwidth\":2}},\"shapedefaults\":{\"line\":{\"color\":\"#2a3f5f\"}},\"annotationdefaults\":{\"arrowcolor\":\"#2a3f5f\",\"arrowhead\":0,\"arrowwidth\":1},\"geo\":{\"bgcolor\":\"white\",\"landcolor\":\"#E5ECF6\",\"subunitcolor\":\"white\",\"showland\":true,\"showlakes\":true,\"lakecolor\":\"white\"},\"title\":{\"x\":0.05},\"mapbox\":{\"style\":\"light\"}}},\"coloraxis\":{\"colorscale\":[[0.0,\"#440154\"],[0.1111111111111111,\"#482878\"],[0.2222222222222222,\"#3e4989\"],[0.3333333333333333,\"#31688e\"],[0.4444444444444444,\"#26828e\"],[0.5555555555555556,\"#1f9e89\"],[0.6666666666666666,\"#35b779\"],[0.7777777777777778,\"#6ece58\"],[0.8888888888888888,\"#b5de2b\"],[1.0,\"#fde725\"]]},\"mapbox\":{\"center\":{\"lat\":46.8181877,\"lon\":8.2275124},\"style\":\"carto-positron\",\"zoom\":2},\"title\":{\"text\":\"Explore Ladder Score by Explanaition Type\",\"x\":0.5},\"margin\":{\"r\":10,\"t\":60,\"l\":0,\"b\":0},\"updatemenus\":[{\"active\":0,\"buttons\":[{\"args\":[{\"z\":[[7.842,7.62,7.571,7.554,7.464,7.392,7.363,7.324,7.277,7.268,7.183,7.157,7.155,7.103,7.085,7.069,7.064,6.965,6.951,6.834,6.69,6.647,6.602,6.584,6.561,6.494,6.491,6.483,6.461,6.435,6.431,6.377,6.372,6.331,6.33,6.317,6.309,6.255,6.223,6.189,6.18,6.179,6.172,6.166,6.152,6.14,6.106,6.078,6.061,6.049,6.032,6.012,5.992,5.985,5.972,5.94,5.929,5.929,5.919,5.882,5.88,5.845,5.84,5.813,5.766,5.764,5.744,5.723,5.716,5.677,5.653,5.581,5.545,5.536,5.534,5.477,5.477,5.466,5.411,5.41,5.384,5.345,5.342,5.339,5.306,5.283,5.269,5.266,5.198,5.171,5.142,5.132,5.117,5.101,5.088,5.074,5.066,5.051,5.045,5.03,5.025,4.984,4.956,4.948,4.934,4.918,4.892,4.891,4.887,4.875,4.854,4.852,4.834,4.83,4.794,4.759,4.723,4.721,4.636,4.625,4.607,4.596,4.584,4.574,4.517,4.426,4.395,4.355,4.325,4.308,4.289,4.283,4.275,4.227,4.208,4.107,4.073,3.849,3.819,3.775,3.658,3.623,3.615,3.6,3.512,3.467,3.415,3.145,2.523]],\"hovertemplate\":\"Country name: %{customdata[0]}\\u003cbr\\u003eLadder score: %{customdata[1]}\\u003cextra\\u003e\\u003c\\u002fextra\\u003e\"},{\"coloraxis.colorscale\":\"Viridis\"}],\"label\":\"Ladder score\",\"method\":\"update\"},{\"args\":[{\"z\":[[0.186,0.179,0.292,0.673,0.338,0.27,0.237,0.386,0.242,0.481,0.442,0.753,0.46,0.415,0.363,0.809,0.459,0.868,0.698,0.646,0.571,0.722,0.653,0.721,0.589,0.684,0.745,0.866,0.806,0.775,0.59,0.082,0.917,0.911,0.756,0.799,0.884,0.826,0.844,0.527,0.856,0.515,0.83,0.735,0.733,0.938,0.736,0.835,0.688,0.789,0.8,0.841,0.876,0.895,0.664,0.638,0.834,0.887,0.809,0.939,0.742,0.727,0.891,0.931,0.918,0.843,0.908,0.823,0.839,0.856,0.882,0.812,0.714,0.626,0.627,0.845,0.403,0.553,0.796,0.667,0.839,0.867,0.745,0.755,0.794,0.629,0.727,0.932,0.825,0.506,0.848,0.801,0.901,0.905,0.848,0.693,0.888,0.746,0.661,0.658,0.682,0.766,0.86,0.776,0.787,0.801,0.827,0.655,0.752,0.924,0.875,0.84,0.748,0.843,0.684,0.878,0.827,0.714,0.855,0.85,0.825,0.87,0.898,0.847,0.821,0.66,0.705,0.807,0.863,0.708,0.781,0.795,0.761,0.731,0.803,0.772,0.823,0.866,0.774,0.607,0.8,0.577,0.721,0.729,0.915,0.801,0.167,0.821,0.924]],\"hovertemplate\":\"Country name: %{customdata[0]}\\u003cbr\\u003ePerceptions of corruption: %{customdata[2]}\\u003cextra\\u003e\\u003c\\u002fextra\\u003e\"},{\"coloraxis.colorscale\":[[0.0,\"#ffffe0\"],[0.1,\"#ffe6b2\"],[0.2,\"#ffcb91\"],[0.3,\"#ffaf79\"],[0.4,\"#fe8f6a\"],[0.5,\"#f47361\"],[0.6,\"#e65758\"],[0.7,\"#d53d4c\"],[0.8,\"#c0223b\"],[0.9,\"#a70b24\"],[1.0,\"#8b0000\"]]}],\"label\":\"Corruption\",\"method\":\"update\"},{\"args\":[{\"z\":[[10.775,10.933,11.117,10.878,10.932,11.053,10.867,11.647,10.643,10.906,10.796,10.575,10.873,10.776,11.342,9.88,10.707,10.556,11.023,10.823,10.704,10.669,10.674,10.871,11.085,10.743,10.571,10.623,10.529,9.053,9.966,11.488,9.318,10.369,9.577,9.859,9.186,10.499,10.576,10.481,10.35,8.836,10.071,10.382,10.155,10.284,10.817,9.787,9.054,10.008,10.315,9.557,10.358,9.805,8.62,10.611,9.962,10.421,8.648,10.217,9.076,10.651,9.458,9.59,9.454,9.313,8.538,10.279,9.046,9.4,9.448,9.94,9.802,10.576,9.853,10.189,11.0,8.091,8.973,9.622,10.238,9.365,8.117,9.673,8.551,9.487,8.12,10.016,9.826,9.569,8.189,8.118,9.52,9.693,8.58,7.098,9.629,7.686,8.087,8.947,8.454,7.838,9.403,10.24,8.458,8.903,9.073,9.585,9.342,9.436,9.24,9.603,7.678,8.36,7.158,8.533,7.744,9.584,7.677,7.288,8.361,9.266,9.626,9.161,8.485,8.541,9.182,7.364,9.47,9.065,8.031,9.367,7.694,8.542,7.396,7.362,8.145,7.434,8.755,6.635,7.578,7.876,7.477,6.958,7.926,9.782,7.676,7.943,7.695]],\"hovertemplate\":\"Country name: %{customdata[0]}\\u003cbr\\u003eLogged GDP per capita': %{customdata[3]}\\u003cextra\\u003e\\u003c\\u002fextra\\u003e\"},{\"coloraxis.colorscale\":[[0.0,\"#2f0f3d\"],[0.1,\"#4f1552\"],[0.2,\"#72195f\"],[0.3,\"#931f63\"],[0.4,\"#b32e5e\"],[0.5,\"#cf4456\"],[0.6,\"#e26152\"],[0.7,\"#ee845d\"],[0.8,\"#f5a672\"],[0.9,\"#faca8f\"],[1.0,\"#fdedb0\"]]}],\"label\":\"GDP per Capita\",\"method\":\"update\"},{\"args\":[{\"z\":[[0.954,0.954,0.942,0.983,0.942,0.954,0.934,0.908,0.948,0.934,0.94,0.939,0.903,0.926,0.947,0.891,0.934,0.947,0.92,0.906,0.942,0.862,0.931,0.898,0.844,0.891,0.932,0.88,0.948,0.813,0.925,0.915,0.821,0.936,0.882,0.831,0.877,0.935,0.802,0.941,0.896,0.918,0.882,0.898,0.952,0.832,0.843,0.873,0.762,0.905,0.927,0.847,0.943,0.888,0.864,0.884,0.898,0.879,0.812,0.924,0.83,0.799,0.832,0.87,0.857,0.821,0.893,0.823,0.81,0.935,0.893,0.858,0.853,0.82,0.91,0.903,0.836,0.86,0.85,0.827,0.817,0.811,0.636,0.811,0.644,0.799,0.774,0.931,0.913,0.836,0.71,0.71,0.697,0.805,0.727,0.641,0.983,0.69,0.489,0.728,0.693,0.639,0.86,0.822,0.651,0.56,0.861,0.671,0.802,0.888,0.746,0.776,0.672,0.765,0.744,0.74,0.724,0.71,0.781,0.72,0.688,0.691,0.848,0.818,0.826,0.779,0.767,0.619,0.827,0.77,0.626,0.75,0.764,0.795,0.686,0.569,0.708,0.63,0.603,0.49,0.832,0.702,0.54,0.537,0.787,0.784,0.552,0.75,0.463]],\"hovertemplate\":\"Country name: %{customdata[0]}\\u003cbr\\u003eSocial support: %{customdata[4]}\\u003cextra\\u003e\\u003c\\u002fextra\\u003e\"},{\"coloraxis.colorscale\":[[0.0,\"#3498db\"],[0.1,\"#5dade2\"],[0.2,\"#85c1e9\"],[0.3,\"#a9cce3\"],[0.4,\"#d4e6f1\"],[0.5,\"#f9e79f\"],[0.6,\"#f7dc6f\"],[0.7,\"#f4d03f\"],[0.8,\"#f1c40f\"],[0.9,\"#e67e22\"],[1.0,\"#d35400\"]]}],\"label\":\"Social Support\",\"method\":\"update\"},{\"args\":[{\"z\":[[0.186,0.179,0.292,0.673,0.338,0.27,0.237,0.386,0.242,0.481,0.442,0.753,0.46,0.415,0.363,0.809,0.459,0.868,0.698,0.646,0.571,0.722,0.653,0.721,0.589,0.684,0.745,0.866,0.806,0.775,0.59,0.082,0.917,0.911,0.756,0.799,0.884,0.826,0.844,0.527,0.856,0.515,0.83,0.735,0.733,0.938,0.736,0.835,0.688,0.789,0.8,0.841,0.876,0.895,0.664,0.638,0.834,0.887,0.809,0.939,0.742,0.727,0.891,0.931,0.918,0.843,0.908,0.823,0.839,0.856,0.882,0.812,0.714,0.626,0.627,0.845,0.403,0.553,0.796,0.667,0.839,0.867,0.745,0.755,0.794,0.629,0.727,0.932,0.825,0.506,0.848,0.801,0.901,0.905,0.848,0.693,0.888,0.746,0.661,0.658,0.682,0.766,0.86,0.776,0.787,0.801,0.827,0.655,0.752,0.924,0.875,0.84,0.748,0.843,0.684,0.878,0.827,0.714,0.855,0.85,0.825,0.87,0.898,0.847,0.821,0.66,0.705,0.807,0.863,0.708,0.781,0.795,0.761,0.731,0.803,0.772,0.823,0.866,0.774,0.607,0.8,0.577,0.721,0.729,0.915,0.801,0.167,0.821,0.924]],\"hovertemplate\":\"Country name: %{customdata[0]}\\u003cbr\\u003eHealthy life expectancy: %{customdata[5]}\\u003cextra\\u003e\\u003c\\u002fextra\\u003e\"},{\"coloraxis.colorscale\":[[0.0,\"#2f0f3d\"],[0.1,\"#4f1552\"],[0.2,\"#72195f\"],[0.3,\"#931f63\"],[0.4,\"#b32e5e\"],[0.5,\"#cf4456\"],[0.6,\"#e26152\"],[0.7,\"#ee845d\"],[0.8,\"#f5a672\"],[0.9,\"#faca8f\"],[1.0,\"#fdedb0\"]]}],\"label\":\"Healthy life expectancy\",\"method\":\"update\"},{\"args\":[{\"z\":[[10.775,10.933,11.117,10.878,10.932,11.053,10.867,11.647,10.643,10.906,10.796,10.575,10.873,10.776,11.342,9.88,10.707,10.556,11.023,10.823,10.704,10.669,10.674,10.871,11.085,10.743,10.571,10.623,10.529,9.053,9.966,11.488,9.318,10.369,9.577,9.859,9.186,10.499,10.576,10.481,10.35,8.836,10.071,10.382,10.155,10.284,10.817,9.787,9.054,10.008,10.315,9.557,10.358,9.805,8.62,10.611,9.962,10.421,8.648,10.217,9.076,10.651,9.458,9.59,9.454,9.313,8.538,10.279,9.046,9.4,9.448,9.94,9.802,10.576,9.853,10.189,11.0,8.091,8.973,9.622,10.238,9.365,8.117,9.673,8.551,9.487,8.12,10.016,9.826,9.569,8.189,8.118,9.52,9.693,8.58,7.098,9.629,7.686,8.087,8.947,8.454,7.838,9.403,10.24,8.458,8.903,9.073,9.585,9.342,9.436,9.24,9.603,7.678,8.36,7.158,8.533,7.744,9.584,7.677,7.288,8.361,9.266,9.626,9.161,8.485,8.541,9.182,7.364,9.47,9.065,8.031,9.367,7.694,8.542,7.396,7.362,8.145,7.434,8.755,6.635,7.578,7.876,7.477,6.958,7.926,9.782,7.676,7.943,7.695]],\"hovertemplate\":\"Country name: %{customdata[0]}\\u003cbr\\u003eFreedom to make life choices: %{customdata[6]}\\u003cextra\\u003e\\u003c\\u002fextra\\u003e\"},{\"coloraxis.colorscale\":[[0.0,\"#2f0f3d\"],[0.1,\"#4f1552\"],[0.2,\"#72195f\"],[0.3,\"#931f63\"],[0.4,\"#b32e5e\"],[0.5,\"#cf4456\"],[0.6,\"#e26152\"],[0.7,\"#ee845d\"],[0.8,\"#f5a672\"],[0.9,\"#faca8f\"],[1.0,\"#fdedb0\"]]}],\"label\":\"Freedom to make life choices\",\"method\":\"update\"},{\"args\":[{\"z\":[[-0.098,0.03,0.025,0.16,0.175,0.093,0.086,-0.034,0.134,0.042,0.159,0.031,0.011,0.089,0.077,-0.126,0.233,-0.208,0.098,-0.153,-0.147,0.089,0.133,-0.07,0.074,-0.149,-0.081,-0.084,-0.101,-0.038,-0.092,-0.018,0.257,-0.124,-0.071,-0.147,-0.137,-0.203,-0.015,-0.106,-0.166,0.311,-0.044,-0.165,-0.069,-0.219,-0.104,0.002,-0.11,-0.054,-0.162,-0.135,-0.186,0.287,0.02,-0.258,-0.182,-0.244,0.081,-0.118,-0.097,-0.083,-0.154,0.113,-0.079,-0.124,0.119,-0.288,-0.077,0.116,0.028,-0.034,-0.133,0.012,-0.18,-0.111,0.067,-0.056,-0.098,-0.087,0.125,0.542,-0.068,-0.146,-0.016,-0.168,0.152,-0.096,0.024,-0.223,0.026,-0.046,-0.03,0.038,0.123,0.018,0.273,0.424,-0.034,0.123,-0.041,0.095,-0.067,-0.139,0.098,-0.236,-0.169,-0.238,-0.067,-0.011,-0.053,-0.2,-0.009,0.034,0.061,0.037,-0.036,0.218,0.122,0.05,0.287,-0.201,-0.073,-0.149,-0.163,0.509,-0.167,0.041,0.079,-0.185,0.082,-0.182,0.082,-0.106,-0.005,0.032,0.061,0.084,0.089,-0.024,-0.147,0.183,0.422,0.038,-0.131,-0.246,0.061,-0.047,-0.102]],\"hovertemplate\":\"Country name: %{customdata[0]}\\u003cbr\\u003eGenerosity: %{customdata[7]}\\u003cextra\\u003e\\u003c\\u002fextra\\u003e\"},{\"coloraxis.colorscale\":[[0.0,\"#2f0f3d\"],[0.1,\"#4f1552\"],[0.2,\"#72195f\"],[0.3,\"#931f63\"],[0.4,\"#b32e5e\"],[0.5,\"#cf4456\"],[0.6,\"#e26152\"],[0.7,\"#ee845d\"],[0.8,\"#f5a672\"],[0.9,\"#faca8f\"],[1.0,\"#fdedb0\"]]}],\"label\":\"Generosity\",\"method\":\"update\"}]}]},                        {\"responsive\": true}                    ).then(function(){\n",
       "                            \n",
       "var gd = document.getElementById('b7bdc760-c8ba-4ba9-87a3-1867b451dd40');\n",
       "var x = new MutationObserver(function (mutations, observer) {{\n",
       "        var display = window.getComputedStyle(gd).display;\n",
       "        if (!display || display === 'none') {{\n",
       "            console.log([gd, 'removed!']);\n",
       "            Plotly.purge(gd);\n",
       "            observer.disconnect();\n",
       "        }}\n",
       "}});\n",
       "\n",
       "// Listen for the removal of the full notebook cells\n",
       "var notebookContainer = gd.closest('#notebook-container');\n",
       "if (notebookContainer) {{\n",
       "    x.observe(notebookContainer, {childList: true});\n",
       "}}\n",
       "\n",
       "// Listen for the clearing of the current output cell\n",
       "var outputEl = gd.closest('.output');\n",
       "if (outputEl) {{\n",
       "    x.observe(outputEl, {childList: true});\n",
       "}}\n",
       "\n",
       "                        })                };                });            </script>        </div>"
      ]
     },
     "metadata": {},
     "output_type": "display_data"
    }
   ],
   "source": [
    "fig.update_layout(updatemenus=[dict(active=0,\n",
    "                                    buttons= [button1, button2, button3, button4, button5, button6, button7])]\n",
    "                                     );\n",
    "fig.show()"
   ]
  },
  {
   "cell_type": "code",
   "execution_count": 10,
   "metadata": {},
   "outputs": [
    {
     "data": {
      "text/html": [
       "\n",
       "        <iframe\n",
       "            width=\"100%\"\n",
       "            height=\"650\"\n",
       "            src=\"http://127.0.0.1:8051/\"\n",
       "            frameborder=\"0\"\n",
       "            allowfullscreen\n",
       "            \n",
       "        ></iframe>\n",
       "        "
      ],
      "text/plain": [
       "<IPython.lib.display.IFrame at 0x28586a290>"
      ]
     },
     "metadata": {},
     "output_type": "display_data"
    }
   ],
   "source": [
    "import pandas as pd\n",
    "import json\n",
    "import plotly.graph_objects as go\n",
    "import dash\n",
    "from dash import dcc, html\n",
    "from dash.dependencies import Input, Output\n",
    "\n",
    "# Assume whr_df contains your data\n",
    "\n",
    "# Load the GeoJSON file\n",
    "with open('world.geo.json/countries.geo.json', 'r') as f:\n",
    "    countries_geojson = json.load(f)\n",
    "\n",
    "# Create a Plotly figure for the map\n",
    "fig = go.Figure(go.Choroplethmapbox(\n",
    "    geojson=countries_geojson,\n",
    "    locations=whr_df['Country name'],\n",
    "    z=whr_df['Ladder score'],\n",
    "    featureidkey='properties.name',\n",
    "    coloraxis=\"coloraxis\",\n",
    "    customdata=whr_df[['Ladder score','Explained by: Log GDP per capita',\n",
    "                        'Explained by: Social support',\n",
    "                        'Explained by: Healthy life expectancy',\n",
    "                        'Explained by: Freedom to make life choices',\n",
    "                        'Explained by: Generosity',\n",
    "                        'Explained by: Perceptions of corruption']],\n",
    "    hovertemplate='<b>Country:</b> %{location}<br><br>' +\n",
    "                  '<b>Ladder score:</b> %{customdata[0]:.2f}<extra></extra>',\n",
    "    marker_opacity=0.75, marker_line_width=0.5\n",
    "))\n",
    "\n",
    "fig.update_layout(\n",
    "    coloraxis_colorscale='Viridis',\n",
    "    mapbox=dict(\n",
    "        style='carto-positron',\n",
    "        zoom=2,\n",
    "        center={\"lat\": 46.8181877, \"lon\": 8.2275124},\n",
    "    ),\n",
    "    margin={\"r\": 10, \"t\": 60, \"l\": 0, \"b\": 0}\n",
    ")\n",
    "\n",
    "# Define the Dash app\n",
    "app = dash.Dash(__name__)\n",
    "\n",
    "# Define the layout\n",
    "app.layout = html.Div([\n",
    "    dcc.Graph(id='world-map', figure=fig),\n",
    "    html.Div(id='secondary-visualization')\n",
    "])\n",
    "\n",
    "# Define callback function to update secondary visualization\n",
    "@app.callback(\n",
    "    Output('secondary-visualization', 'children'),\n",
    "    [Input('world-map', 'clickData')]\n",
    ")\n",
    "def update_secondary_visualization(clickData):\n",
    "    if clickData is None:\n",
    "        return html.Div(\"Click on a country to see more details.\")\n",
    "\n",
    "    clicked_country = clickData['points'][0]['location']\n",
    "    # Extract data for the clicked country\n",
    "    country_data = whr_df[whr_df['Country name'] == clicked_country]\n",
    "\n",
    "    # Get the column index of the maximum sum of \"Explained by\" values\n",
    "    max_index = country_data.iloc[:, 13:19].sum().idxmax()\n",
    "\n",
    "    # Create a bar graph for the \"Explained by\" data\n",
    "    secondary_fig = go.Figure()\n",
    "\n",
    "    for idx, col in enumerate(country_data.columns[13:19]):\n",
    "        if col == max_index:\n",
    "            color = \"#22a7f0\"  # Highlight the bar with the greatest value\n",
    "        else:\n",
    "            color = \"#ea5f94\"\n",
    "        secondary_fig.add_trace(go.Bar(\n",
    "            x=[col],\n",
    "            y=[country_data.iloc[0, 13+idx]],\n",
    "            marker_color=color,\n",
    "            name=col\n",
    "        ))\n",
    "\n",
    "    secondary_fig.update_layout(\n",
    "        title='Factors for {} the Explain Ladder Score'.format(clicked_country),\n",
    "        xaxis_title='Factors',\n",
    "        yaxis_title='Explained by Value',\n",
    "        yaxis=dict(range=[0, 2])  # Set y-axis range from 0 to 10\n",
    "    )\n",
    "\n",
    "    return dcc.Graph(id='secondary-fig', figure=secondary_fig)\n",
    "\n",
    "if __name__ == '__main__':\n",
    "    # Start the server with a different port, for example, port 8051\n",
    "    app.run(port=8051)\n"
   ]
  }
 ],
 "metadata": {
  "kernelspec": {
   "display_name": "ds",
   "language": "python",
   "name": "python3"
  },
  "language_info": {
   "codemirror_mode": {
    "name": "ipython",
    "version": 3
   },
   "file_extension": ".py",
   "mimetype": "text/x-python",
   "name": "python",
   "nbconvert_exporter": "python",
   "pygments_lexer": "ipython3",
   "version": "3.11.7"
  }
 },
 "nbformat": 4,
 "nbformat_minor": 2
}
